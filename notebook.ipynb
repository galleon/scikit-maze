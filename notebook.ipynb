{
  "nbformat": 4,
  "nbformat_minor": 0,
  "metadata": {
    "colab": {
      "name": "notebook.ipynb",
      "provenance": [],
      "collapsed_sections": []
    },
    "kernelspec": {
      "name": "python3",
      "display_name": "Python 3"
    },
    "language_info": {
      "name": "python"
    }
  },
  "cells": [
    {
      "cell_type": "markdown",
      "metadata": {
        "id": "_HCT49T5dBzu"
      },
      "source": [
        "# Installing scikit-decide"
      ]
    },
    {
      "cell_type": "code",
      "metadata": {
        "id": "IKyurnIXMOd_"
      },
      "source": [
        "%load_ext autoreload\n",
        "%autoreload 2"
      ],
      "execution_count": 1,
      "outputs": []
    },
    {
      "cell_type": "code",
      "metadata": {
        "id": "Gxl2trTDNGiX"
      },
      "source": [
        "# deps installation\n",
        "try:\n",
        "  import from skdecide import DeterministicPlanningDomain\n",
        "except ImportError:\n",
        "  !pip install scikit-decide[all]\n",
        "  print('Stopping RUNTIME! Please run again.')\n",
        "  import os\n",
        "  os.kill(os.getpid(), 9)"
      ],
      "execution_count": 2,
      "outputs": []
    },
    {
      "cell_type": "code",
      "metadata": {
        "colab": {
          "base_uri": "https://localhost:8080/"
        },
        "id": "ux_OarNsKvtq",
        "outputId": "1aab24a2-f02f-4d42-be74-3435bee592ae"
      },
      "source": [
        "!git clone https://github.com/galleon/scikit-maze.git"
      ],
      "execution_count": 2,
      "outputs": [
        {
          "output_type": "stream",
          "name": "stdout",
          "text": [
            "fatal: destination path 'scikit-maze' already exists and is not an empty directory.\n"
          ]
        }
      ]
    },
    {
      "cell_type": "code",
      "metadata": {
        "id": "ZQFxdDmxLO0I"
      },
      "source": [
        "import sys\n",
        "sys.path.insert(0,'./scikit-maze')"
      ],
      "execution_count": 3,
      "outputs": []
    },
    {
      "cell_type": "markdown",
      "metadata": {
        "id": "D0-cfd0vdY3_"
      },
      "source": [
        "# Solving a Maze"
      ]
    },
    {
      "cell_type": "code",
      "metadata": {
        "id": "AxcQEPf6BVXS"
      },
      "source": [
        "from skdecide import DeterministicPlanningDomain, Space, Value\n",
        "from skdecide.builders.domain import UnrestrictedActions, Renderable\n",
        "from skdecide.utils import rollout, match_solvers, load_registered_solver\n",
        "from skdecide.hub.space.gym import ListSpace, EnumSpace, MultiDiscreteSpace\n",
        "from skdecide.hub.solver.lazy_astar import LazyAstar\n",
        "\n",
        "from utils import Maze"
      ],
      "execution_count": 4,
      "outputs": []
    },
    {
      "cell_type": "markdown",
      "metadata": {
        "id": "v6HBavO1Bmm3"
      },
      "source": [
        "##Create a Maze"
      ]
    },
    {
      "cell_type": "code",
      "metadata": {
        "colab": {
          "base_uri": "https://localhost:8080/"
        },
        "id": "_gDz0qF4Blpk",
        "outputId": "32546f45-0687-4be9-9d03-1c9379122bb7"
      },
      "source": [
        "maze = Maze(25, 25)"
      ],
      "execution_count": 5,
      "outputs": [
        {
          "output_type": "stream",
          "name": "stdout",
          "text": [
            "+-+-+-+-+-+-+-+-+-+-+-+-+\n",
            "| |   |     |           |\n",
            "+ + +-+ +-+ + +-+-+ +-+ +\n",
            "| |       | | |   |   | |\n",
            "+ + +-+-+-+ + +-+ +-+ + +\n",
            "| | |   |   |     | | | |\n",
            "+ + +-+ + +-+-+-+ + + +-+\n",
            "| |   | |     |   | |   |\n",
            "+ +-+ + +-+-+ + +-+ +-+ +\n",
            "|   |   |   | | |   | | |\n",
            "+-+ +-+-+ + + + + + + + +\n",
            "|   |   | |   | | |   | |\n",
            "+ +-+ + + +-+-+ + +-+-+ +\n",
            "|     | |         |   | |\n",
            "+-+-+-+ +-+-+-+-+ + + + +\n",
            "|     |         | | |   |\n",
            "+ +-+ +-+-+-+-+ + + +-+ +\n",
            "| | |         | | | |   |\n",
            "+ + +-+-+-+ +-+ + + +-+-+\n",
            "|     |   |   | | |     |\n",
            "+-+-+ +-+ +-+ + +-+ +-+ +\n",
            "|   |   |   | |   | |   |\n",
            "+ +-+-+ + + + +-+ +-+ + +\n",
            "|         | |         | |\n",
            "+-+-+-+-+-+-+-+-+-+-+-+-+\n"
          ]
        }
      ]
    },
    {
      "cell_type": "markdown",
      "metadata": {
        "id": "5b36dpRicIqE"
      },
      "source": [
        "##Domain definition\n",
        "Define your state space (agent positions) & action space (agent movements)."
      ]
    },
    {
      "cell_type": "code",
      "metadata": {
        "id": "iKfLV_0FcHPc"
      },
      "source": [
        "class State(NamedTuple):\n",
        "    x: int\n",
        "    y: int\n",
        "\n",
        "\n",
        "class Action(Enum):\n",
        "    up = 0\n",
        "    down = 1\n",
        "    left = 2\n",
        "    right = 3"
      ],
      "execution_count": null,
      "outputs": []
    },
    {
      "cell_type": "markdown",
      "metadata": {
        "id": "0mLinYPWdk1k"
      },
      "source": [
        "Define your domain type from a base template (DeterministicPlanningDomain here) with optional refinements (UnrestrictedActions & Renderable here).\n",
        "\n"
      ]
    },
    {
      "cell_type": "code",
      "metadata": {
        "id": "fOmigEHCdtIG"
      },
      "source": [
        "class D(DeterministicPlanningDomain, UnrestrictedActions, Renderable):\n",
        "    T_state = State  # Type of states\n",
        "    T_observation = T_state  # Type of observations\n",
        "    T_event = Action  # Type of events\n",
        "    T_value = float  # Type of transition values (rewards or costs)\n",
        "    T_predicate = bool  # Type of logical checks\n",
        "    T_info = None  # Type of additional information in environment outcome"
      ],
      "execution_count": null,
      "outputs": []
    },
    {
      "cell_type": "markdown",
      "metadata": {
        "id": "ueHL80Jgd0LC"
      },
      "source": [
        "Implement the maze domain by:\n",
        "* filling all non-implemented methods\n",
        "* adding a constructor to define the maze & start/end positions.\n",
        "\n",
        "And also define (to help solvers that need it)\n",
        "* an heuristic for search algorithms\n",
        "* state features for width-based algorithms"
      ]
    },
    {
      "cell_type": "code",
      "metadata": {
        "id": "rgWspQF7d005"
      },
      "source": [
        "empty_cell = \" \"\n",
        "\n",
        "class MyDomain(D):\n",
        "    def __init__(self, start, end, maze_str, image_widget=None):\n",
        "        self.start = start\n",
        "        self.end = end\n",
        "        self.maze_str = maze_str.strip()\n",
        "        self.maze = self.maze_str.splitlines()\n",
        "        self.image_widget = image_widget\n",
        "\n",
        "        # for rendering\n",
        "        rendered_maze = []\n",
        "        for line in self.maze:\n",
        "            row = []\n",
        "            for c in line:\n",
        "                if c == empty_cell:\n",
        "                    row.append(1)\n",
        "                else:\n",
        "                    row.append(0)\n",
        "            if len(row) > 0:\n",
        "                rendered_maze.append(row)\n",
        "        rendered_maze[self.end.x][self.end.y] = 0.7\n",
        "        self.rendered_maze = rendered_maze\n",
        "\n",
        "        self._image = None\n",
        "\n",
        "    def _get_next_state(self, memory: D.T_state, action: D.T_event) -> D.T_state:\n",
        "        # Move agent according to action (except if bumping into a wall)\n",
        "        next_x, next_y = memory.x, memory.y\n",
        "        if action == Action.up:\n",
        "            next_x -= 1\n",
        "        if action == Action.down:\n",
        "            next_x += 1\n",
        "        if action == Action.left:\n",
        "            next_y -= 1\n",
        "        if action == Action.right:\n",
        "            next_y += 1\n",
        "        return State(next_x, next_y) if self.maze[next_x][next_y] == empty_cell else memory\n",
        "\n",
        "    def _get_transition_value(self, memory: D.T_state, action: D.T_event, next_state: Optional[D.T_state] = None) -> \\\n",
        "            Value[D.T_value]:\n",
        "        # Set cost to 1 when moving (energy cost) and to 2 when bumping into a wall (damage cost)\n",
        "        return Value(cost=1 if next_state != memory else 2)\n",
        "\n",
        "    def _get_initial_state_(self) -> D.T_state:\n",
        "        # Set the start position as initial state\n",
        "        return self.start\n",
        "\n",
        "    def _get_goals_(self) -> Space[D.T_observation]:\n",
        "        # Set the end position as goal\n",
        "        return ListSpace([self.end])\n",
        "\n",
        "    def _is_terminal(self, state: D.T_state) -> D.T_agent[D.T_predicate]:\n",
        "        # Stop an episode only when goal reached\n",
        "        return self._is_goal(state)\n",
        "\n",
        "    def _get_action_space_(self) -> Space[D.T_event]:\n",
        "        # Define action space\n",
        "        return EnumSpace(Action)\n",
        "\n",
        "    def _get_observation_space_(self) -> Space[D.T_observation]:\n",
        "        # Define observation space\n",
        "        num_rows = len(self.maze)\n",
        "        num_cols = max([len(row) for row in self.maze])\n",
        "        return MultiDiscreteSpace([num_rows, num_cols])\n",
        "\n",
        "    def _render_from(self, memory: D.T_state, **kwargs: Any) -> Any:\n",
        "        #  display maze in an image widget, via a matplotlib figure\n",
        "        maze = deepcopy(self.rendered_maze)\n",
        "        maze[memory.x][memory.y] = 0.3\n",
        "        if self._image is None:\n",
        "            plt.ioff()\n",
        "            fig, ax = plt.subplots(1)\n",
        "            ax.set_aspect('equal')  # set the x and y axes to the same scale\n",
        "            plt.xticks([])  # remove the tick marks by setting to an empty list\n",
        "            plt.yticks([])  # remove the tick marks by setting to an empty list\n",
        "            ax.invert_yaxis()  # invert the y-axis so the first row of data is at the top\n",
        "            plt.ion()\n",
        "            fig.canvas.header_visible = False\n",
        "            fig.canvas.footer_visible = False\n",
        "            fig.canvas.resizable = False\n",
        "            fig.set_dpi(1)\n",
        "            fig.set_figwidth(600)\n",
        "            fig.set_figheight(600)\n",
        "            self._image = ax.imshow(maze)\n",
        "        else:\n",
        "            self._image.set_data(maze)\n",
        "        with io.BytesIO() as f:\n",
        "            self._image.figure.savefig(f, format=\"png\")\n",
        "            self.image_widget.value = f.getvalue()\n",
        "        \n",
        "    def heuristic(self, s: D.T_state) -> Value:\n",
        "        return Value(cost=sqrt((self.end.x - s.x)**2 + (self.end.y - s.y)**2))\n",
        "    \n",
        "    def state_features(self, s: D.T_state) -> List[float]:\n",
        "        return [s.x, s.y]"
      ],
      "execution_count": null,
      "outputs": []
    },
    {
      "cell_type": "markdown",
      "metadata": {
        "id": "lLv2B4p4eizS"
      },
      "source": [
        "Now that the domain is defined. Let's look at the solvers that can solve it. *scikit-decide* provide a method to list them"
      ]
    },
    {
      "cell_type": "code",
      "metadata": {
        "id": "895pv1Q5evRA"
      },
      "source": [
        ""
      ],
      "execution_count": null,
      "outputs": []
    },
    {
      "cell_type": "markdown",
      "metadata": {
        "id": "ALYBAP6vewZJ"
      },
      "source": [
        "Let's try to use a first solver named A\\*. A\\* (pronounced \"A-star\") is a graph traversal and path search algorithm, which is often used in many fields of computer science due to its completeness, optimality, and optimal efficiency. \n",
        "\n",
        "One major practical drawback is its $O(b^d)$ space complexity, as it\n",
        "stores all generated nodes in memory."
      ]
    },
    {
      "cell_type": "code",
      "metadata": {
        "id": "wE60LC0gfYEK"
      },
      "source": [
        ""
      ],
      "execution_count": null,
      "outputs": []
    }
  ]
}