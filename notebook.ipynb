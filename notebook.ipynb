{
  "nbformat": 4,
  "nbformat_minor": 0,
  "metadata": {
    "colab": {
      "name": "notebook.ipynb",
      "provenance": [],
      "collapsed_sections": []
    },
    "kernelspec": {
      "display_name": "Python 3 (ipykernel)",
      "language": "python",
      "name": "python3"
    },
    "language_info": {
      "codemirror_mode": {
        "name": "ipython",
        "version": 3
      },
      "file_extension": ".py",
      "mimetype": "text/x-python",
      "name": "python",
      "nbconvert_exporter": "python",
      "pygments_lexer": "ipython3",
      "version": "3.8.10"
    },
    "widgets": {
      "application/vnd.jupyter.widget-state+json": {
        "62efc6c3c18a4dd68c34c62eb5197b00": {
          "model_module": "@jupyter-widgets/controls",
          "model_name": "ImageModel",
          "model_module_version": "1.5.0",
          "state": {
            "_view_name": "ImageView",
            "_dom_classes": [],
            "_model_name": "ImageModel",
            "format": "png",
            "_view_module": "@jupyter-widgets/controls",
            "_model_module_version": "1.5.0",
            "_view_count": null,
            "width": "",
            "_view_module_version": "1.5.0",
            "layout": "IPY_MODEL_58b4240294b34589b2f83a7c69efb539",
            "height": "",
            "_model_module": "@jupyter-widgets/controls"
          }
        },
        "58b4240294b34589b2f83a7c69efb539": {
          "model_module": "@jupyter-widgets/base",
          "model_name": "LayoutModel",
          "model_module_version": "1.2.0",
          "state": {
            "_view_name": "LayoutView",
            "grid_template_rows": null,
            "right": null,
            "justify_content": null,
            "_view_module": "@jupyter-widgets/base",
            "overflow": null,
            "_model_module_version": "1.2.0",
            "_view_count": null,
            "flex_flow": null,
            "width": null,
            "min_width": null,
            "border": null,
            "align_items": null,
            "bottom": null,
            "_model_module": "@jupyter-widgets/base",
            "top": null,
            "grid_column": null,
            "overflow_y": null,
            "overflow_x": null,
            "grid_auto_flow": null,
            "grid_area": null,
            "grid_template_columns": null,
            "flex": null,
            "_model_name": "LayoutModel",
            "justify_items": null,
            "grid_row": null,
            "max_height": null,
            "align_content": null,
            "visibility": null,
            "align_self": null,
            "height": null,
            "min_height": null,
            "padding": null,
            "grid_auto_rows": null,
            "grid_gap": null,
            "max_width": null,
            "order": null,
            "_view_module_version": "1.2.0",
            "grid_template_areas": null,
            "object_position": null,
            "object_fit": null,
            "grid_auto_columns": null,
            "margin": null,
            "display": null,
            "left": null
          }
        },
        "8a2a5eac57704ad7add2c2ff4d9792e7": {
          "model_module": "@jupyter-widgets/controls",
          "model_name": "ImageModel",
          "model_module_version": "1.5.0",
          "state": {
            "_view_name": "ImageView",
            "_dom_classes": [],
            "_model_name": "ImageModel",
            "format": "png",
            "_view_module": "@jupyter-widgets/controls",
            "_model_module_version": "1.5.0",
            "_view_count": null,
            "width": "",
            "_view_module_version": "1.5.0",
            "layout": "IPY_MODEL_6e9bc75ec22a483ead4376316f6a4d20",
            "height": "",
            "_model_module": "@jupyter-widgets/controls"
          }
        },
        "6e9bc75ec22a483ead4376316f6a4d20": {
          "model_module": "@jupyter-widgets/base",
          "model_name": "LayoutModel",
          "model_module_version": "1.2.0",
          "state": {
            "_view_name": "LayoutView",
            "grid_template_rows": null,
            "right": null,
            "justify_content": null,
            "_view_module": "@jupyter-widgets/base",
            "overflow": null,
            "_model_module_version": "1.2.0",
            "_view_count": null,
            "flex_flow": null,
            "width": null,
            "min_width": null,
            "border": null,
            "align_items": null,
            "bottom": null,
            "_model_module": "@jupyter-widgets/base",
            "top": null,
            "grid_column": null,
            "overflow_y": null,
            "overflow_x": null,
            "grid_auto_flow": null,
            "grid_area": null,
            "grid_template_columns": null,
            "flex": null,
            "_model_name": "LayoutModel",
            "justify_items": null,
            "grid_row": null,
            "max_height": null,
            "align_content": null,
            "visibility": null,
            "align_self": null,
            "height": null,
            "min_height": null,
            "padding": null,
            "grid_auto_rows": null,
            "grid_gap": null,
            "max_width": null,
            "order": null,
            "_view_module_version": "1.2.0",
            "grid_template_areas": null,
            "object_position": null,
            "object_fit": null,
            "grid_auto_columns": null,
            "margin": null,
            "display": null,
            "left": null
          }
        },
        "d0b4e3867e074cd5b0bbd3faaba01632": {
          "model_module": "@jupyter-widgets/controls",
          "model_name": "HBoxModel",
          "model_module_version": "1.5.0",
          "state": {
            "_view_name": "HBoxView",
            "_dom_classes": [],
            "_model_name": "HBoxModel",
            "_view_module": "@jupyter-widgets/controls",
            "_model_module_version": "1.5.0",
            "_view_count": null,
            "_view_module_version": "1.5.0",
            "box_style": "",
            "layout": "IPY_MODEL_86c734e6d5fc47bd9b45e2f6cda1c611",
            "_model_module": "@jupyter-widgets/controls",
            "children": [
              "IPY_MODEL_755645747b4a4e62ab786349fbdadd99",
              "IPY_MODEL_a2f6edf35e2f41b5bc2005de614c14e9"
            ]
          }
        },
        "86c734e6d5fc47bd9b45e2f6cda1c611": {
          "model_module": "@jupyter-widgets/base",
          "model_name": "LayoutModel",
          "model_module_version": "1.2.0",
          "state": {
            "_view_name": "LayoutView",
            "grid_template_rows": null,
            "right": null,
            "justify_content": null,
            "_view_module": "@jupyter-widgets/base",
            "overflow": null,
            "_model_module_version": "1.2.0",
            "_view_count": null,
            "flex_flow": null,
            "width": null,
            "min_width": null,
            "border": null,
            "align_items": null,
            "bottom": null,
            "_model_module": "@jupyter-widgets/base",
            "top": null,
            "grid_column": null,
            "overflow_y": null,
            "overflow_x": null,
            "grid_auto_flow": null,
            "grid_area": null,
            "grid_template_columns": null,
            "flex": null,
            "_model_name": "LayoutModel",
            "justify_items": null,
            "grid_row": null,
            "max_height": null,
            "align_content": null,
            "visibility": null,
            "align_self": null,
            "height": null,
            "min_height": null,
            "padding": null,
            "grid_auto_rows": null,
            "grid_gap": null,
            "max_width": null,
            "order": null,
            "_view_module_version": "1.2.0",
            "grid_template_areas": null,
            "object_position": null,
            "object_fit": null,
            "grid_auto_columns": null,
            "margin": null,
            "display": null,
            "left": null
          }
        },
        "755645747b4a4e62ab786349fbdadd99": {
          "model_module": "@jupyter-widgets/controls",
          "model_name": "ImageModel",
          "model_module_version": "1.5.0",
          "state": {
            "_view_name": "ImageView",
            "_dom_classes": [],
            "_model_name": "ImageModel",
            "format": "png",
            "_view_module": "@jupyter-widgets/controls",
            "_model_module_version": "1.5.0",
            "_view_count": null,
            "width": "",
            "_view_module_version": "1.5.0",
            "layout": "IPY_MODEL_02f474c929a24857bac0eb0fe6a62f37",
            "height": "",
            "_model_module": "@jupyter-widgets/controls"
          }
        },
        "a2f6edf35e2f41b5bc2005de614c14e9": {
          "model_module": "@jupyter-widgets/output",
          "model_name": "OutputModel",
          "model_module_version": "1.0.0",
          "state": {
            "_view_name": "OutputView",
            "msg_id": "",
            "_dom_classes": [],
            "_model_name": "OutputModel",
            "outputs": [
              {
                "output_type": "stream",
                "name": "stdout",
                "text": [
                  "Episode 1 terminated after 529 steps.\n"
                ]
              },
              {
                "output_type": "stream",
                "name": "stdout",
                "text": [
                  "The goal was  reached in episode 1.\n"
                ]
              }
            ],
            "_view_module": "@jupyter-widgets/output",
            "_model_module_version": "1.0.0",
            "_view_count": null,
            "_view_module_version": "1.0.0",
            "layout": "IPY_MODEL_68cfd6e55f3c4e078ba5fc506f3c9689",
            "_model_module": "@jupyter-widgets/output"
          }
        },
        "02f474c929a24857bac0eb0fe6a62f37": {
          "model_module": "@jupyter-widgets/base",
          "model_name": "LayoutModel",
          "model_module_version": "1.2.0",
          "state": {
            "_view_name": "LayoutView",
            "grid_template_rows": null,
            "right": null,
            "justify_content": null,
            "_view_module": "@jupyter-widgets/base",
            "overflow": null,
            "_model_module_version": "1.2.0",
            "_view_count": null,
            "flex_flow": null,
            "width": null,
            "min_width": null,
            "border": null,
            "align_items": null,
            "bottom": null,
            "_model_module": "@jupyter-widgets/base",
            "top": null,
            "grid_column": null,
            "overflow_y": null,
            "overflow_x": null,
            "grid_auto_flow": null,
            "grid_area": null,
            "grid_template_columns": null,
            "flex": null,
            "_model_name": "LayoutModel",
            "justify_items": null,
            "grid_row": null,
            "max_height": null,
            "align_content": null,
            "visibility": null,
            "align_self": null,
            "height": null,
            "min_height": null,
            "padding": null,
            "grid_auto_rows": null,
            "grid_gap": null,
            "max_width": null,
            "order": null,
            "_view_module_version": "1.2.0",
            "grid_template_areas": null,
            "object_position": null,
            "object_fit": null,
            "grid_auto_columns": null,
            "margin": null,
            "display": null,
            "left": null
          }
        },
        "68cfd6e55f3c4e078ba5fc506f3c9689": {
          "model_module": "@jupyter-widgets/base",
          "model_name": "LayoutModel",
          "model_module_version": "1.2.0",
          "state": {
            "_view_name": "LayoutView",
            "grid_template_rows": null,
            "right": null,
            "justify_content": null,
            "_view_module": "@jupyter-widgets/base",
            "overflow": null,
            "_model_module_version": "1.2.0",
            "_view_count": null,
            "flex_flow": null,
            "width": null,
            "min_width": null,
            "border": null,
            "align_items": null,
            "bottom": null,
            "_model_module": "@jupyter-widgets/base",
            "top": null,
            "grid_column": null,
            "overflow_y": null,
            "overflow_x": null,
            "grid_auto_flow": null,
            "grid_area": null,
            "grid_template_columns": null,
            "flex": null,
            "_model_name": "LayoutModel",
            "justify_items": null,
            "grid_row": null,
            "max_height": null,
            "align_content": null,
            "visibility": null,
            "align_self": null,
            "height": null,
            "min_height": null,
            "padding": null,
            "grid_auto_rows": null,
            "grid_gap": null,
            "max_width": null,
            "order": null,
            "_view_module_version": "1.2.0",
            "grid_template_areas": null,
            "object_position": null,
            "object_fit": null,
            "grid_auto_columns": null,
            "margin": null,
            "display": null,
            "left": null
          }
        }
      }
    }
  },
  "cells": [
    {
      "cell_type": "code",
      "metadata": {
        "id": "IKyurnIXMOd_"
      },
      "source": [
        "%load_ext autoreload\n",
        "%autoreload 2"
      ],
      "execution_count": 1,
      "outputs": []
    },
    {
      "cell_type": "code",
      "metadata": {
        "colab": {
          "base_uri": "https://localhost:8080/"
        },
        "id": "zVce05OPBOeD",
        "outputId": "8ffd7fc3-31aa-4a03-ad5c-5885159b627a"
      },
      "source": [
        "import sys\n",
        "if 'google.colab'in sys.modules:\n",
        "  !pip install scikit-decide[all]"
      ],
      "execution_count": 2,
      "outputs": [
        {
          "output_type": "stream",
          "name": "stdout",
          "text": [
            "Requirement already satisfied: scikit-decide[all] in /usr/local/lib/python3.7/dist-packages (0.9.2)\n",
            "Requirement already satisfied: pathos<0.3.0,>=0.2.7 in /usr/local/lib/python3.7/dist-packages (from scikit-decide[all]) (0.2.8)\n",
            "Requirement already satisfied: pynng<0.7.0,>=0.6.2 in /usr/local/lib/python3.7/dist-packages (from scikit-decide[all]) (0.6.2)\n",
            "Requirement already satisfied: stable-baselines3<0.12.0,>=0.11.1 in /usr/local/lib/python3.7/dist-packages (from scikit-decide[all]) (0.11.1)\n",
            "Requirement already satisfied: deap<2.0.0,>=1.3.1 in /usr/local/lib/python3.7/dist-packages (from scikit-decide[all]) (1.3.1)\n",
            "Requirement already satisfied: simplejson<4.0.0,>=3.17.2 in /usr/local/lib/python3.7/dist-packages (from scikit-decide[all]) (3.17.5)\n",
            "Requirement already satisfied: ray[rllib]<2.0.0,>=1.2.0 in /usr/local/lib/python3.7/dist-packages (from scikit-decide[all]) (1.6.0)\n",
            "Requirement already satisfied: numpy<2.0.0,>=1.20.1 in /usr/local/lib/python3.7/dist-packages (from scikit-decide[all]) (1.21.2)\n",
            "Requirement already satisfied: matplotlib<4.0.0,>=3.3.4 in /usr/local/lib/python3.7/dist-packages (from scikit-decide[all]) (3.4.2)\n",
            "Requirement already satisfied: minizinc<0.5.0,>=0.4.2 in /usr/local/lib/python3.7/dist-packages (from scikit-decide[all]) (0.4.2)\n",
            "Requirement already satisfied: networkx<3.0,>=2.5 in /usr/local/lib/python3.7/dist-packages (from scikit-decide[all]) (2.6.2)\n",
            "Requirement already satisfied: torch<2.0.0,>=1.8.0 in /usr/local/lib/python3.7/dist-packages (from scikit-decide[all]) (1.9.0+cu102)\n",
            "Requirement already satisfied: gym<0.19.0,>=0.18.0 in /usr/local/lib/python3.7/dist-packages (from scikit-decide[all]) (0.18.3)\n",
            "Requirement already satisfied: joblib<2.0.0,>=1.0.1 in /usr/local/lib/python3.7/dist-packages (from scikit-decide[all]) (1.0.1)\n",
            "Requirement already satisfied: mip<2.0.0,>=1.13.0 in /usr/local/lib/python3.7/dist-packages (from scikit-decide[all]) (1.13.0)\n",
            "Requirement already satisfied: pyglet<=1.5.15,>=1.4.0 in /usr/local/lib/python3.7/dist-packages (from gym<0.19.0,>=0.18.0->scikit-decide[all]) (1.5.0)\n",
            "Requirement already satisfied: cloudpickle<1.7.0,>=1.2.0 in /usr/local/lib/python3.7/dist-packages (from gym<0.19.0,>=0.18.0->scikit-decide[all]) (1.3.0)\n",
            "Requirement already satisfied: Pillow<=8.2.0 in /usr/local/lib/python3.7/dist-packages (from gym<0.19.0,>=0.18.0->scikit-decide[all]) (7.1.2)\n",
            "Requirement already satisfied: scipy in /usr/local/lib/python3.7/dist-packages (from gym<0.19.0,>=0.18.0->scikit-decide[all]) (1.4.1)\n",
            "Requirement already satisfied: python-dateutil>=2.7 in /usr/local/lib/python3.7/dist-packages (from matplotlib<4.0.0,>=3.3.4->scikit-decide[all]) (2.8.2)\n",
            "Requirement already satisfied: cycler>=0.10 in /usr/local/lib/python3.7/dist-packages (from matplotlib<4.0.0,>=3.3.4->scikit-decide[all]) (0.10.0)\n",
            "Requirement already satisfied: pyparsing>=2.2.1 in /usr/local/lib/python3.7/dist-packages (from matplotlib<4.0.0,>=3.3.4->scikit-decide[all]) (2.4.7)\n",
            "Requirement already satisfied: kiwisolver>=1.0.1 in /usr/local/lib/python3.7/dist-packages (from matplotlib<4.0.0,>=3.3.4->scikit-decide[all]) (1.3.1)\n",
            "Requirement already satisfied: six in /usr/local/lib/python3.7/dist-packages (from cycler>=0.10->matplotlib<4.0.0,>=3.3.4->scikit-decide[all]) (1.15.0)\n",
            "Requirement already satisfied: cffi in /usr/local/lib/python3.7/dist-packages (from mip<2.0.0,>=1.13.0->scikit-decide[all]) (1.14.6)\n",
            "Requirement already satisfied: multiprocess>=0.70.12 in /usr/local/lib/python3.7/dist-packages (from pathos<0.3.0,>=0.2.7->scikit-decide[all]) (0.70.12.2)\n",
            "Requirement already satisfied: pox>=0.3.0 in /usr/local/lib/python3.7/dist-packages (from pathos<0.3.0,>=0.2.7->scikit-decide[all]) (0.3.0)\n",
            "Requirement already satisfied: dill>=0.3.4 in /usr/local/lib/python3.7/dist-packages (from pathos<0.3.0,>=0.2.7->scikit-decide[all]) (0.3.4)\n",
            "Requirement already satisfied: ppft>=1.6.6.4 in /usr/local/lib/python3.7/dist-packages (from pathos<0.3.0,>=0.2.7->scikit-decide[all]) (1.6.6.4)\n",
            "Requirement already satisfied: future in /usr/local/lib/python3.7/dist-packages (from pyglet<=1.5.15,>=1.4.0->gym<0.19.0,>=0.18.0->scikit-decide[all]) (0.16.0)\n",
            "Requirement already satisfied: sniffio in /usr/local/lib/python3.7/dist-packages (from pynng<0.7.0,>=0.6.2->scikit-decide[all]) (1.2.0)\n",
            "Requirement already satisfied: attrs in /usr/local/lib/python3.7/dist-packages (from ray[rllib]<2.0.0,>=1.2.0->scikit-decide[all]) (21.2.0)\n",
            "Requirement already satisfied: msgpack<2.0.0,>=1.0.0 in /usr/local/lib/python3.7/dist-packages (from ray[rllib]<2.0.0,>=1.2.0->scikit-decide[all]) (1.0.2)\n",
            "Requirement already satisfied: click>=7.0 in /usr/local/lib/python3.7/dist-packages (from ray[rllib]<2.0.0,>=1.2.0->scikit-decide[all]) (7.1.2)\n",
            "Requirement already satisfied: grpcio>=1.28.1 in /usr/local/lib/python3.7/dist-packages (from ray[rllib]<2.0.0,>=1.2.0->scikit-decide[all]) (1.39.0)\n",
            "Requirement already satisfied: pyyaml in /usr/local/lib/python3.7/dist-packages (from ray[rllib]<2.0.0,>=1.2.0->scikit-decide[all]) (3.13)\n",
            "Requirement already satisfied: redis>=3.5.0 in /usr/local/lib/python3.7/dist-packages (from ray[rllib]<2.0.0,>=1.2.0->scikit-decide[all]) (3.5.3)\n",
            "Requirement already satisfied: filelock in /usr/local/lib/python3.7/dist-packages (from ray[rllib]<2.0.0,>=1.2.0->scikit-decide[all]) (3.0.12)\n",
            "Requirement already satisfied: protobuf>=3.15.3 in /usr/local/lib/python3.7/dist-packages (from ray[rllib]<2.0.0,>=1.2.0->scikit-decide[all]) (3.17.3)\n",
            "Requirement already satisfied: requests in /usr/local/lib/python3.7/dist-packages (from ray[rllib]<2.0.0,>=1.2.0->scikit-decide[all]) (2.23.0)\n",
            "Requirement already satisfied: pandas in /usr/local/lib/python3.7/dist-packages (from ray[rllib]<2.0.0,>=1.2.0->scikit-decide[all]) (1.1.5)\n",
            "Requirement already satisfied: scikit-image in /usr/local/lib/python3.7/dist-packages (from ray[rllib]<2.0.0,>=1.2.0->scikit-decide[all]) (0.16.2)\n",
            "Requirement already satisfied: lz4 in /usr/local/lib/python3.7/dist-packages (from ray[rllib]<2.0.0,>=1.2.0->scikit-decide[all]) (3.1.3)\n",
            "Requirement already satisfied: tensorboardX>=1.9 in /usr/local/lib/python3.7/dist-packages (from ray[rllib]<2.0.0,>=1.2.0->scikit-decide[all]) (2.4)\n",
            "Requirement already satisfied: dm-tree in /usr/local/lib/python3.7/dist-packages (from ray[rllib]<2.0.0,>=1.2.0->scikit-decide[all]) (0.1.6)\n",
            "Requirement already satisfied: tabulate in /usr/local/lib/python3.7/dist-packages (from ray[rllib]<2.0.0,>=1.2.0->scikit-decide[all]) (0.8.9)\n",
            "Requirement already satisfied: typing-extensions in /usr/local/lib/python3.7/dist-packages (from torch<2.0.0,>=1.8.0->scikit-decide[all]) (3.7.4.3)\n",
            "Requirement already satisfied: pycparser in /usr/local/lib/python3.7/dist-packages (from cffi->mip<2.0.0,>=1.13.0->scikit-decide[all]) (2.20)\n",
            "Requirement already satisfied: pytz>=2017.2 in /usr/local/lib/python3.7/dist-packages (from pandas->ray[rllib]<2.0.0,>=1.2.0->scikit-decide[all]) (2018.9)\n",
            "Requirement already satisfied: certifi>=2017.4.17 in /usr/local/lib/python3.7/dist-packages (from requests->ray[rllib]<2.0.0,>=1.2.0->scikit-decide[all]) (2021.5.30)\n",
            "Requirement already satisfied: urllib3!=1.25.0,!=1.25.1,<1.26,>=1.21.1 in /usr/local/lib/python3.7/dist-packages (from requests->ray[rllib]<2.0.0,>=1.2.0->scikit-decide[all]) (1.24.3)\n",
            "Requirement already satisfied: chardet<4,>=3.0.2 in /usr/local/lib/python3.7/dist-packages (from requests->ray[rllib]<2.0.0,>=1.2.0->scikit-decide[all]) (3.0.4)\n",
            "Requirement already satisfied: idna<3,>=2.5 in /usr/local/lib/python3.7/dist-packages (from requests->ray[rllib]<2.0.0,>=1.2.0->scikit-decide[all]) (2.10)\n",
            "Requirement already satisfied: imageio>=2.3.0 in /usr/local/lib/python3.7/dist-packages (from scikit-image->ray[rllib]<2.0.0,>=1.2.0->scikit-decide[all]) (2.4.1)\n",
            "Requirement already satisfied: PyWavelets>=0.4.0 in /usr/local/lib/python3.7/dist-packages (from scikit-image->ray[rllib]<2.0.0,>=1.2.0->scikit-decide[all]) (1.1.1)\n"
          ]
        }
      ]
    },
    {
      "cell_type": "code",
      "metadata": {
        "colab": {
          "base_uri": "https://localhost:8080/"
        },
        "id": "ux_OarNsKvtq",
        "outputId": "7a4b20bb-d9a0-48e6-8061-93b8cdf101d9"
      },
      "source": [
        "!(rm -rf scikit-maze/; git clone https://github.com/galleon/scikit-maze.git)"
      ],
      "execution_count": 3,
      "outputs": [
        {
          "output_type": "stream",
          "name": "stdout",
          "text": [
            "Cloning into 'scikit-maze'...\n",
            "remote: Enumerating objects: 105, done.\u001b[K\n",
            "remote: Counting objects: 100% (105/105), done.\u001b[K\n",
            "remote: Compressing objects: 100% (74/74), done.\u001b[K\n",
            "remote: Total 105 (delta 44), reused 84 (delta 23), pack-reused 0\u001b[K\n",
            "Receiving objects: 100% (105/105), 39.30 KiB | 4.91 MiB/s, done.\n",
            "Resolving deltas: 100% (44/44), done.\n"
          ]
        }
      ]
    },
    {
      "cell_type": "code",
      "metadata": {
        "id": "ZQFxdDmxLO0I"
      },
      "source": [
        "sys.path.insert(0,'./scikit-maze')"
      ],
      "execution_count": 4,
      "outputs": []
    },
    {
      "cell_type": "code",
      "metadata": {
        "id": "AxcQEPf6BVXS"
      },
      "source": [
        "from enum import Enum\n",
        "from typing import Any, List, NamedTuple, Optional\n",
        "\n",
        "from skdecide import DeterministicPlanningDomain, Space, Value\n",
        "from skdecide.builders.domain import UnrestrictedActions, Renderable\n",
        "from skdecide.utils import rollout, match_solvers, load_registered_solver\n",
        "from skdecide.hub.space.gym import ListSpace, EnumSpace, MultiDiscreteSpace\n",
        "from skdecide.hub.solver.lazy_astar import LazyAstar\n",
        "\n",
        "from utils import Maze"
      ],
      "execution_count": 5,
      "outputs": []
    },
    {
      "cell_type": "code",
      "metadata": {
        "id": "T8dU9ZDpIdPS"
      },
      "source": [
        "from PIL import Image"
      ],
      "execution_count": 6,
      "outputs": []
    },
    {
      "cell_type": "code",
      "metadata": {
        "id": "-QJLCG6CIdPT"
      },
      "source": [
        "import io\n",
        "import ipywidgets as widgets"
      ],
      "execution_count": 7,
      "outputs": []
    },
    {
      "cell_type": "markdown",
      "metadata": {
        "id": "zn83TcYqIdPU"
      },
      "source": [
        "## Define Action & State spaces"
      ]
    },
    {
      "cell_type": "code",
      "metadata": {
        "id": "AyomMt85IdPV"
      },
      "source": [
        "class State(NamedTuple):\n",
        "  x: int\n",
        "  y: int\n",
        "\n",
        "class Action(Enum):\n",
        "  up = 0\n",
        "  down = 1\n",
        "  left = 2\n",
        "  right = 3"
      ],
      "execution_count": 8,
      "outputs": []
    },
    {
      "cell_type": "markdown",
      "metadata": {
        "id": "xMIKBP3ZIdPW"
      },
      "source": [
        "## Define a base domain"
      ]
    },
    {
      "cell_type": "code",
      "metadata": {
        "id": "lf1fV52dIdPW"
      },
      "source": [
        "class D(DeterministicPlanningDomain, UnrestrictedActions, Renderable):\n",
        "  T_state = State  # Type of states\n",
        "  T_observation = T_state  # Type of observations\n",
        "  T_event = Action  # Type of events\n",
        "  T_value = float  # Type of transition values (rewards or costs)\n",
        "  T_predicate = bool  # Type of logical checks\n",
        "  T_info = None  # Type of additional information in environment outcome"
      ],
      "execution_count": 9,
      "outputs": []
    },
    {
      "cell_type": "markdown",
      "metadata": {
        "id": "T2sUSfC9IdPX"
      },
      "source": [
        "## Create the maze domain"
      ]
    },
    {
      "cell_type": "code",
      "metadata": {
        "id": "G_-OQP57IdPX"
      },
      "source": [
        "from math import sqrt\n",
        "\n",
        "class MazeDomain(D):\n",
        "\n",
        "  def __init__(self, start, end, maze, image_widget=None):\n",
        "    self.start = start\n",
        "    self.end = end\n",
        "    self.maze = maze\n",
        "    self.image_widget = image_widget\n",
        "    #if self.image_widget:\n",
        "    #    self.image_widget.layout = widgets.Layout(width='200px')\n",
        "\n",
        "  def _get_next_state(self, memory: D.T_state, action: D.T_event) -> D.T_state:\n",
        "    # Move agent according to action (except if bumping into a wall)\n",
        "    next_x, next_y = memory.x, memory.y\n",
        "    if action == Action.up:\n",
        "      next_x -= 1\n",
        "    if action == Action.down:\n",
        "      next_x += 1\n",
        "    if action == Action.left:\n",
        "       next_y -= 1\n",
        "    if action == Action.right:\n",
        "       next_y += 1\n",
        "    return State(next_x, next_y) if self.maze.is_an_empty_cell(next_x, next_y) else memory\n",
        "\n",
        "  def _get_transition_value(self, memory: D.T_state, action: D.T_event, next_state: Optional[D.T_state] = None) -> \\\n",
        "      Value[D.T_value]:\n",
        "    # Set cost to 1 when moving (energy cost) and to 2 when bumping into a wall (damage cost)\n",
        "    return Value(cost=1 if next_state != memory else 2)\n",
        "\n",
        "  def _get_initial_state_(self) -> D.T_state:\n",
        "    # Set the start position as initial state\n",
        "    return self.start\n",
        "\n",
        "  def _get_goals_(self) -> Space[D.T_observation]:\n",
        "    # Set the end position as goal\n",
        "    return ListSpace([self.end])\n",
        "\n",
        "  def _is_terminal(self, state: D.T_state) -> D.T_agent[D.T_predicate]:\n",
        "    # Stop an episode only when goal reached\n",
        "    return self._is_goal(state)\n",
        "\n",
        "  def _get_action_space_(self) -> Space[D.T_event]:\n",
        "    # Define action space\n",
        "    return EnumSpace(Action)\n",
        "\n",
        "  def _get_observation_space_(self) -> Space[D.T_observation]:\n",
        "    # Define observation space\n",
        "    num_rows = self.maze.height\n",
        "    num_cols = self.maze.width\n",
        "    return MultiDiscreteSpace([num_rows, num_cols])\n",
        "\n",
        "  def _render_from(self, memory: D.T_state, **kwargs: Any) -> Any:\n",
        "    buff = io.BytesIO()\n",
        "    maze_ = self.maze.get_image(memory.x, memory.y).repeat(4, 0).repeat(4, 1)\n",
        "    img = Image.fromarray(maze_)\n",
        "    img.save(buff, format='png')\n",
        "    return buff.getvalue()\n",
        "            \n",
        "  def heuristic(self, s: D.T_state) -> Value:\n",
        "     return Value(cost=sqrt((self.end.x - s.x)**2 + (self.end.y - s.y)**2))\n",
        "    \n",
        "  def state_features(self, s: D.T_state) -> List[float]:\n",
        "    return [s.x, s.y]"
      ],
      "execution_count": 10,
      "outputs": []
    },
    {
      "cell_type": "markdown",
      "metadata": {
        "id": "yDgxGTXiIdPX"
      },
      "source": [
        "## Define a Maze"
      ]
    },
    {
      "cell_type": "code",
      "metadata": {
        "id": "T7uyosVBIdPY"
      },
      "source": [
        "height, width = 50, 50\n",
        "\n",
        "maze = Maze(width, height)\n",
        "\n",
        "domain_factory = lambda: MazeDomain(State(1, 1), State(width-1, height-1), maze)"
      ],
      "execution_count": 11,
      "outputs": []
    },
    {
      "cell_type": "markdown",
      "metadata": {
        "id": "cfbiml5rIdPY"
      },
      "source": [
        "## Render the maze"
      ]
    },
    {
      "cell_type": "code",
      "metadata": {
        "id": "WOFya35MIdPY",
        "outputId": "8b3c1629-59d9-4e30-b698-f7631212bc75",
        "colab": {
          "base_uri": "https://localhost:8080/",
          "height": 227,
          "referenced_widgets": [
            "62efc6c3c18a4dd68c34c62eb5197b00",
            "58b4240294b34589b2f83a7c69efb539"
          ]
        }
      },
      "source": [
        "widgets.Image(value=domain_factory()._render_from(State(1, 1)))"
      ],
      "execution_count": 12,
      "outputs": [
        {
          "output_type": "display_data",
          "data": {
            "application/vnd.jupyter.widget-view+json": {
              "model_id": "62efc6c3c18a4dd68c34c62eb5197b00",
              "version_minor": 0,
              "version_major": 2
            },
            "text/plain": [
              "Image(value=b'\\x89PNG\\r\\n\\x1a\\n\\x00\\x00\\x00\\rIHDR\\x00\\x00\\x00\\xcc\\x00\\x00\\x00\\xcc\\x08\\x00\\x00\\x00\\x00\\x1aI\\x13…"
            ]
          },
          "metadata": {}
        }
      ]
    },
    {
      "cell_type": "code",
      "metadata": {
        "id": "J4UDCq1DIdPZ",
        "outputId": "9246417c-f447-4153-83f9-cf0e9b46b501",
        "colab": {
          "base_uri": "https://localhost:8080/",
          "height": 227,
          "referenced_widgets": [
            "8a2a5eac57704ad7add2c2ff4d9792e7",
            "6e9bc75ec22a483ead4376316f6a4d20"
          ]
        }
      },
      "source": [
        "widgets.Image(value=domain_factory()._render_from(State(49, 49)))"
      ],
      "execution_count": 13,
      "outputs": [
        {
          "output_type": "display_data",
          "data": {
            "application/vnd.jupyter.widget-view+json": {
              "model_id": "8a2a5eac57704ad7add2c2ff4d9792e7",
              "version_minor": 0,
              "version_major": 2
            },
            "text/plain": [
              "Image(value=b'\\x89PNG\\r\\n\\x1a\\n\\x00\\x00\\x00\\rIHDR\\x00\\x00\\x00\\xcc\\x00\\x00\\x00\\xcc\\x08\\x00\\x00\\x00\\x00\\x1aI\\x13…"
            ]
          },
          "metadata": {}
        }
      ]
    },
    {
      "cell_type": "markdown",
      "metadata": {
        "id": "Iqd7YAQHIdPZ"
      },
      "source": [
        "## Let solve with A*\n",
        "\n",
        "Let's try to use a first solver named A. A (pronounced \"A-star\") is a graph traversal and path search algorithm, which is often used in many fields of computer science due to its completeness, optimality, and optimal efficiency.\n",
        "\n",
        "One major practical drawback is its  𝑂(𝑏𝑑)  space complexity, as it stores all generated nodes in memory."
      ]
    },
    {
      "cell_type": "code",
      "metadata": {
        "id": "7KntbA6CIdPa",
        "outputId": "7d59cab1-dd2e-4026-e69f-ce8ea8899d09",
        "colab": {
          "base_uri": "https://localhost:8080/",
          "height": 224,
          "referenced_widgets": [
            "d0b4e3867e074cd5b0bbd3faaba01632",
            "86c734e6d5fc47bd9b45e2f6cda1c611",
            "755645747b4a4e62ab786349fbdadd99",
            "a2f6edf35e2f41b5bc2005de614c14e9",
            "02f474c929a24857bac0eb0fe6a62f37",
            "68cfd6e55f3c4e078ba5fc506f3c9689"
          ]
        }
      },
      "source": [
        "import time\n",
        "\n",
        "out = widgets.Output()\n",
        "img = widgets.Image(format='png')\n",
        "display(widgets.VBox([img, out]))\n",
        "\n",
        "domain = domain_factory()\n",
        "\n",
        "# Check that we can solve the Maze with LazyAstar\n",
        "assert LazyAstar.check_domain(domain)\n",
        "\n",
        "# All good, let's use LazyAstar\n",
        "with LazyAstar() as solver:\n",
        "  # Let's solve the domain\n",
        "  MazeDomain.solve_with(solver, domain_factory)\n",
        "    \n",
        "  # Now let's see the solution\n",
        "  for i_episode in range(1):\n",
        "    # Initialize episode\n",
        "    solver.reset()\n",
        "    observation = domain.reset()\n",
        "            \n",
        "    # Let's define maximum number of steps\n",
        "    step, max_steps = 1, 1000\n",
        "\n",
        "    while step <= max_steps:\n",
        "\n",
        "      if isinstance(domain, Renderable):\n",
        "        img.value = domain._render_from(observation)\n",
        "    \n",
        "      action = solver.sample_action(observation)\n",
        "    \n",
        "      outcome = domain.step(action)\n",
        "      observation = outcome.observation\n",
        "\n",
        "      termination = domain._is_terminal(observation)\n",
        "      if termination:\n",
        "        with out:\n",
        "          print(f'Episode {i_episode + 1} terminated after {step + 1} steps.')\n",
        "        break\n",
        "\n",
        "      time.sleep(0.1)\n",
        "      step += 1\n",
        "        \n",
        "      if isinstance(domain, Renderable):\n",
        "        img.value = domain._render_from(observation)\n",
        "  with out:    \n",
        "    print(f'The goal was {\"\" if domain.is_goal(observation) else \" not\"} reached in episode {i_episode + 1}.')"
      ],
      "execution_count": 15,
      "outputs": [
        {
          "output_type": "display_data",
          "data": {
            "application/vnd.jupyter.widget-view+json": {
              "model_id": "d0b4e3867e074cd5b0bbd3faaba01632",
              "version_minor": 0,
              "version_major": 2
            },
            "text/plain": [
              "HBox(children=(Image(value=b''), Output()))"
            ]
          },
          "metadata": {}
        }
      ]
    }
  ]
}