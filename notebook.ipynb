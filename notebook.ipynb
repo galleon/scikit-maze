{
 "cells": [
  {
   "cell_type": "code",
   "execution_count": 1,
   "metadata": {
    "id": "IKyurnIXMOd_"
   },
   "outputs": [],
   "source": [
    "%load_ext autoreload\n",
    "%autoreload 2"
   ]
  },
  {
   "cell_type": "code",
   "execution_count": 2,
   "metadata": {
    "colab": {
     "base_uri": "https://localhost:8080/"
    },
    "id": "zVce05OPBOeD",
    "outputId": "6857831b-f00f-48ff-a71a-b410b47c6cbf"
   },
   "outputs": [],
   "source": [
    "import sys\n",
    "if 'google.colab'in sys.modules:\n",
    "    !pip install scikit-decide[all]"
   ]
  },
  {
   "cell_type": "code",
   "execution_count": 3,
   "metadata": {
    "colab": {
     "base_uri": "https://localhost:8080/"
    },
    "id": "ux_OarNsKvtq",
    "outputId": "276fbeba-764e-4866-ded1-80fe048c6ef0"
   },
   "outputs": [
    {
     "name": "stdout",
     "output_type": "stream",
     "text": [
      "Cloning into 'scikit-maze'...\n",
      "remote: Enumerating objects: 64, done.\u001b[K\n",
      "remote: Counting objects: 100% (64/64), done.\u001b[K\n",
      "remote: Compressing objects: 100% (45/45), done.\u001b[K\n",
      "remote: Total 64 (delta 23), reused 54 (delta 13), pack-reused 0\u001b[K\n",
      "Unpacking objects: 100% (64/64), done.\n"
     ]
    }
   ],
   "source": [
    "!(rm -rf scikit-maze/; git clone https://github.com/galleon/scikit-maze.git)"
   ]
  },
  {
   "cell_type": "code",
   "execution_count": 4,
   "metadata": {
    "id": "ZQFxdDmxLO0I"
   },
   "outputs": [],
   "source": [
    "sys.path.insert(0,'./scikit-maze')"
   ]
  },
  {
   "cell_type": "code",
   "execution_count": 5,
   "metadata": {
    "id": "AxcQEPf6BVXS"
   },
   "outputs": [],
   "source": [
    "from skdecide import DeterministicPlanningDomain, Space, Value\n",
    "from skdecide.builders.domain import UnrestrictedActions, Renderable\n",
    "from skdecide.utils import rollout, match_solvers, load_registered_solver\n",
    "from skdecide.hub.space.gym import ListSpace, EnumSpace, MultiDiscreteSpace\n",
    "from skdecide.hub.solver.lazy_astar import LazyAstar\n",
    "\n",
    "from utils import Maze"
   ]
  },
  {
   "cell_type": "markdown",
   "metadata": {
    "id": "v6HBavO1Bmm3"
   },
   "source": [
    "Create a Maze"
   ]
  },
  {
   "cell_type": "code",
   "execution_count": 6,
   "metadata": {
    "colab": {
     "base_uri": "https://localhost:8080/"
    },
    "id": "_gDz0qF4Blpk",
    "outputId": "7704023b-6650-4fd7-a257-72b0e6abd1d3"
   },
   "outputs": [],
   "source": [
    "maze = Maze(25, 25)"
   ]
  },
  {
   "cell_type": "code",
   "execution_count": 37,
   "metadata": {},
   "outputs": [],
   "source": [
    "from PIL import Image\n",
    "\n",
    "im_array = 255*maze.get_image()"
   ]
  },
  {
   "cell_type": "code",
   "execution_count": 38,
   "metadata": {},
   "outputs": [
    {
     "data": {
      "text/plain": [
       "array([[255, 255, 255, 255, 255, 255, 255, 255, 255, 255, 255, 255, 255,\n",
       "        255, 255, 255, 255, 255, 255, 255, 255, 255, 255, 255, 255],\n",
       "       [255, 179,   0,   0,   0,   0, 255,   0,   0,   0,   0,   0,   0,\n",
       "          0,   0,   0,   0,   0,   0,   0, 255,   0,   0,   0, 255],\n",
       "       [255, 255, 255, 255, 255,   0, 255, 255, 255, 255, 255, 255, 255,\n",
       "        255, 255,   0, 255, 255, 255,   0, 255,   0, 255,   0, 255],\n",
       "       [255,   0, 255,   0,   0,   0, 255,   0,   0,   0,   0,   0, 255,\n",
       "          0,   0,   0, 255,   0, 255,   0, 255,   0, 255,   0, 255],\n",
       "       [255,   0, 255,   0, 255, 255, 255,   0, 255, 255, 255,   0, 255,\n",
       "          0, 255, 255, 255,   0, 255,   0, 255,   0, 255, 255, 255],\n",
       "       [255,   0, 255,   0,   0,   0,   0,   0, 255,   0, 255,   0,   0,\n",
       "          0, 255,   0,   0,   0, 255,   0, 255,   0,   0,   0, 255],\n",
       "       [255,   0, 255, 255, 255, 255, 255, 255, 255,   0, 255, 255, 255,\n",
       "        255, 255, 255, 255,   0, 255,   0, 255, 255, 255,   0, 255],\n",
       "       [255,   0,   0,   0,   0,   0,   0,   0,   0,   0,   0,   0,   0,\n",
       "          0,   0,   0, 255,   0, 255,   0, 255,   0,   0,   0, 255],\n",
       "       [255, 255, 255,   0, 255, 255, 255, 255, 255, 255, 255, 255, 255,\n",
       "        255, 255,   0, 255,   0, 255,   0, 255,   0, 255,   0, 255],\n",
       "       [255,   0,   0,   0, 255,   0,   0,   0,   0,   0,   0,   0,   0,\n",
       "          0,   0,   0,   0,   0, 255,   0,   0,   0, 255,   0, 255],\n",
       "       [255,   0, 255, 255, 255, 255, 255, 255, 255, 255, 255, 255, 255,\n",
       "        255, 255, 255, 255, 255, 255, 255, 255, 255, 255,   0, 255],\n",
       "       [255,   0, 255,   0,   0,   0,   0,   0, 255,   0,   0,   0,   0,\n",
       "          0,   0,   0,   0,   0,   0,   0,   0,   0, 255,   0, 255],\n",
       "       [255,   0, 255,   0, 255, 255, 255,   0, 255,   0, 255, 255, 255,\n",
       "        255, 255, 255, 255, 255, 255, 255, 255,   0, 255,   0, 255],\n",
       "       [255,   0,   0,   0, 255,   0,   0,   0, 255,   0,   0,   0, 255,\n",
       "          0,   0,   0,   0,   0, 255,   0,   0,   0, 255,   0, 255],\n",
       "       [255,   0, 255, 255, 255,   0, 255, 255, 255,   0, 255, 255, 255,\n",
       "          0, 255, 255, 255,   0, 255,   0, 255,   0, 255,   0, 255],\n",
       "       [255,   0, 255,   0, 255,   0,   0,   0, 255,   0, 255,   0,   0,\n",
       "          0, 255,   0,   0,   0,   0,   0, 255,   0, 255,   0, 255],\n",
       "       [255,   0, 255,   0, 255, 255, 255,   0, 255,   0, 255,   0, 255,\n",
       "        255, 255, 255, 255,   0, 255, 255, 255, 255, 255,   0, 255],\n",
       "       [255,   0, 255,   0,   0,   0, 255,   0, 255,   0, 255,   0,   0,\n",
       "          0,   0,   0, 255,   0, 255,   0,   0,   0, 255,   0, 255],\n",
       "       [255,   0, 255,   0, 255,   0, 255,   0, 255,   0, 255, 255, 255,\n",
       "        255, 255,   0, 255, 255, 255,   0, 255,   0, 255,   0, 255],\n",
       "       [255,   0,   0,   0, 255,   0, 255,   0, 255,   0, 255,   0,   0,\n",
       "          0, 255,   0,   0,   0,   0,   0, 255,   0,   0,   0, 255],\n",
       "       [255, 255, 255,   0, 255, 255, 255,   0, 255,   0, 255, 255, 255,\n",
       "          0, 255, 255, 255, 255, 255, 255, 255, 255, 255, 255, 255],\n",
       "       [255,   0,   0,   0, 255,   0,   0,   0, 255,   0,   0,   0, 255,\n",
       "          0,   0,   0,   0,   0, 255,   0,   0,   0,   0,   0, 255],\n",
       "       [255,   0, 255, 255, 255,   0, 255, 255, 255, 255, 255,   0, 255,\n",
       "        255, 255,   0, 255,   0, 255, 255, 255, 255, 255,   0, 255],\n",
       "       [255,   0,   0,   0, 255,   0,   0,   0,   0,   0,   0,   0,   0,\n",
       "          0,   0,   0, 255,   0,   0,   0,   0,   0,   0,   0, 255],\n",
       "       [255, 255, 255, 255, 255, 255, 255, 255, 255, 255, 255, 255, 255,\n",
       "        255, 255, 255, 255, 255, 255, 255, 255, 255, 255, 255, 255]],\n",
       "      dtype=uint8)"
      ]
     },
     "execution_count": 38,
     "metadata": {},
     "output_type": "execute_result"
    }
   ],
   "source": [
    "im_array"
   ]
  },
  {
   "cell_type": "code",
   "execution_count": 12,
   "metadata": {},
   "outputs": [],
   "source": [
    "im_bytes = im_array.tobytes()"
   ]
  },
  {
   "cell_type": "code",
   "execution_count": 13,
   "metadata": {},
   "outputs": [],
   "source": [
    "import ipywidgets as widgets"
   ]
  },
  {
   "cell_type": "code",
   "execution_count": 17,
   "metadata": {},
   "outputs": [
    {
     "data": {
      "application/vnd.jupyter.widget-view+json": {
       "model_id": "40990e4f38db4e85a0cd890fd70261d2",
       "version_major": 2,
       "version_minor": 0
      },
      "text/plain": [
       "Image(value=b'\\xff\\xff\\xff\\xff\\xff\\xff\\xff\\xff\\xff\\xff\\xff\\xff\\xff\\xff\\xff\\xff\\xff\\xff\\xff\\xff\\xff\\xff\\xff\\xff…"
      ]
     },
     "metadata": {},
     "output_type": "display_data"
    }
   ],
   "source": [
    "display(widgets.Image(value=im_bytes))"
   ]
  },
  {
   "cell_type": "code",
   "execution_count": 21,
   "metadata": {},
   "outputs": [
    {
     "name": "stderr",
     "output_type": "stream",
     "text": [
      "display-im6.q16: unable to open X server `' @ error/display.c/DisplayImageCommand/432.\n"
     ]
    }
   ],
   "source": [
    "image = Image.fromarray(im_array)"
   ]
  },
  {
   "cell_type": "code",
   "execution_count": 33,
   "metadata": {},
   "outputs": [],
   "source": [
    " wi = widgets.Image(value=image.tobytes(),format='png', layout=widgets.Layout(width='400px'))"
   ]
  },
  {
   "cell_type": "code",
   "execution_count": 29,
   "metadata": {},
   "outputs": [],
   "source": [
    "from IPython.display import Image"
   ]
  },
  {
   "cell_type": "code",
   "execution_count": 34,
   "metadata": {},
   "outputs": [
    {
     "data": {
      "text/plain": [
       "ipywidgets.widgets.widget_media.Image"
      ]
     },
     "execution_count": 34,
     "metadata": {},
     "output_type": "execute_result"
    }
   ],
   "source": [
    "type (wi)"
   ]
  },
  {
   "cell_type": "code",
   "execution_count": 40,
   "metadata": {},
   "outputs": [
    {
     "ename": "NameError",
     "evalue": "name 'fmt' is not defined",
     "output_type": "error",
     "traceback": [
      "\u001b[0;31m---------------------------------------------------------------------------\u001b[0m",
      "\u001b[0;31mNameError\u001b[0m                                 Traceback (most recent call last)",
      "\u001b[0;32m/tmp/ipykernel_60/4083117499.py\u001b[0m in \u001b[0;36m<module>\u001b[0;34m\u001b[0m\n\u001b[1;32m      2\u001b[0m \u001b[0mbuff\u001b[0m \u001b[0;34m=\u001b[0m \u001b[0mio\u001b[0m\u001b[0;34m.\u001b[0m\u001b[0mBytesIO\u001b[0m\u001b[0;34m(\u001b[0m\u001b[0;34m)\u001b[0m\u001b[0;34m\u001b[0m\u001b[0;34m\u001b[0m\u001b[0m\n\u001b[1;32m      3\u001b[0m \u001b[0mimg\u001b[0m \u001b[0;34m=\u001b[0m \u001b[0mImage\u001b[0m\u001b[0;34m.\u001b[0m\u001b[0mfromarray\u001b[0m\u001b[0;34m(\u001b[0m\u001b[0mim_array\u001b[0m\u001b[0;34m)\u001b[0m\u001b[0;34m\u001b[0m\u001b[0;34m\u001b[0m\u001b[0m\n\u001b[0;32m----> 4\u001b[0;31m \u001b[0mimg\u001b[0m\u001b[0;34m.\u001b[0m\u001b[0msave\u001b[0m\u001b[0;34m(\u001b[0m\u001b[0mbuff\u001b[0m\u001b[0;34m,\u001b[0m \u001b[0mformat\u001b[0m\u001b[0;34m=\u001b[0m\u001b[0mfmt\u001b[0m\u001b[0;34m)\u001b[0m\u001b[0;34m\u001b[0m\u001b[0;34m\u001b[0m\u001b[0m\n\u001b[0m\u001b[1;32m      5\u001b[0m \u001b[0;34m\u001b[0m\u001b[0m\n\u001b[1;32m      6\u001b[0m \u001b[0mbuff\u001b[0m\u001b[0;34m.\u001b[0m\u001b[0mgetvalue\u001b[0m\u001b[0;34m(\u001b[0m\u001b[0;34m)\u001b[0m\u001b[0;34m\u001b[0m\u001b[0;34m\u001b[0m\u001b[0m\n",
      "\u001b[0;31mNameError\u001b[0m: name 'fmt' is not defined"
     ]
    }
   ],
   "source": [
    "import io\n",
    "buff = io.BytesIO()\n",
    "img = Image.fromarray(im_array)    \n",
    "img.save(buff, format=fmt)\n",
    "\n",
    "buff.getvalue()"
   ]
  },
  {
   "cell_type": "code",
   "execution_count": null,
   "metadata": {},
   "outputs": [],
   "source": []
  }
 ],
 "metadata": {
  "colab": {
   "collapsed_sections": [],
   "name": "notebook.ipynb",
   "provenance": []
  },
  "kernelspec": {
   "display_name": "Python 3 (ipykernel)",
   "language": "python",
   "name": "python3"
  },
  "language_info": {
   "codemirror_mode": {
    "name": "ipython",
    "version": 3
   },
   "file_extension": ".py",
   "mimetype": "text/x-python",
   "name": "python",
   "nbconvert_exporter": "python",
   "pygments_lexer": "ipython3",
   "version": "3.8.10"
  }
 },
 "nbformat": 4,
 "nbformat_minor": 4
}
