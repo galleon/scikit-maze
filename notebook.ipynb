{
 "cells": [
  {
   "cell_type": "code",
   "execution_count": 3,
   "metadata": {
    "id": "IKyurnIXMOd_"
   },
   "outputs": [],
   "source": [
    "%load_ext autoreload\n",
    "%autoreload 2"
   ]
  },
  {
   "cell_type": "code",
   "execution_count": 4,
   "metadata": {
    "colab": {
     "base_uri": "https://localhost:8080/"
    },
    "id": "zVce05OPBOeD",
    "outputId": "6857831b-f00f-48ff-a71a-b410b47c6cbf"
   },
   "outputs": [],
   "source": [
    "import sys\n",
    "if 'google.colab'in sys.modules:\n",
    "    !pip install scikit-decide[all]"
   ]
  },
  {
   "cell_type": "code",
   "execution_count": 5,
   "metadata": {
    "colab": {
     "base_uri": "https://localhost:8080/"
    },
    "id": "ux_OarNsKvtq",
    "outputId": "276fbeba-764e-4866-ded1-80fe048c6ef0"
   },
   "outputs": [
    {
     "name": "stdout",
     "output_type": "stream",
     "text": [
      "Cloning into 'scikit-maze'...\n",
      "remote: Enumerating objects: 84, done.\u001b[K\n",
      "remote: Counting objects: 100% (84/84), done.\u001b[K\n",
      "remote: Compressing objects: 100% (60/60), done.\u001b[K\n",
      "remote: Total 84 (delta 30), reused 70 (delta 16), pack-reused 0\u001b[K\n",
      "Unpacking objects: 100% (84/84), done.\n"
     ]
    }
   ],
   "source": [
    "!(rm -rf scikit-maze/; git clone https://github.com/galleon/scikit-maze.git)"
   ]
  },
  {
   "cell_type": "code",
   "execution_count": 6,
   "metadata": {
    "id": "ZQFxdDmxLO0I"
   },
   "outputs": [],
   "source": [
    "sys.path.insert(0,'./scikit-maze')"
   ]
  },
  {
   "cell_type": "code",
   "execution_count": 7,
   "metadata": {
    "id": "AxcQEPf6BVXS"
   },
   "outputs": [],
   "source": [
    "from skdecide import DeterministicPlanningDomain, Space, Value\n",
    "from skdecide.builders.domain import UnrestrictedActions, Renderable\n",
    "from skdecide.utils import rollout, match_solvers, load_registered_solver\n",
    "from skdecide.hub.space.gym import ListSpace, EnumSpace, MultiDiscreteSpace\n",
    "from skdecide.hub.solver.lazy_astar import LazyAstar\n",
    "\n",
    "from utils import Maze"
   ]
  },
  {
   "cell_type": "markdown",
   "metadata": {
    "id": "v6HBavO1Bmm3"
   },
   "source": [
    "Create a Maze"
   ]
  },
  {
   "cell_type": "code",
   "execution_count": 8,
   "metadata": {
    "colab": {
     "base_uri": "https://localhost:8080/"
    },
    "id": "_gDz0qF4Blpk",
    "outputId": "7704023b-6650-4fd7-a257-72b0e6abd1d3"
   },
   "outputs": [],
   "source": [
    "maze = Maze(25, 25)"
   ]
  },
  {
   "cell_type": "code",
   "execution_count": 9,
   "metadata": {},
   "outputs": [],
   "source": [
    "from PIL import Image\n",
    "\n",
    "im_array = 255*maze.get_image()"
   ]
  },
  {
   "cell_type": "code",
   "execution_count": 10,
   "metadata": {},
   "outputs": [
    {
     "data": {
      "text/plain": [
       "array([[255, 255, 255, 255, 255, 255, 255, 255, 255, 255, 255, 255, 255,\n",
       "        255, 255, 255, 255, 255, 255, 255, 255, 255, 255, 255, 255],\n",
       "       [255, 179,   0,   0,   0,   0,   0,   0,   0,   0,   0,   0,   0,\n",
       "          0, 255,   0,   0,   0,   0,   0,   0,   0,   0,   0, 255],\n",
       "       [255, 255, 255, 255, 255, 255, 255, 255, 255, 255, 255, 255, 255,\n",
       "          0, 255,   0, 255, 255, 255, 255, 255, 255, 255,   0, 255],\n",
       "       [255,   0,   0,   0,   0,   0, 255,   0,   0,   0,   0,   0, 255,\n",
       "          0, 255,   0,   0,   0,   0,   0, 255,   0,   0,   0, 255],\n",
       "       [255, 255, 255,   0, 255,   0, 255,   0, 255, 255, 255,   0, 255,\n",
       "          0, 255, 255, 255, 255, 255,   0, 255,   0, 255, 255, 255],\n",
       "       [255,   0,   0,   0, 255,   0, 255,   0, 255,   0,   0,   0, 255,\n",
       "          0, 255,   0,   0,   0,   0,   0, 255,   0, 255,   0, 255],\n",
       "       [255,   0, 255, 255, 255,   0, 255,   0, 255, 255, 255, 255, 255,\n",
       "          0, 255,   0, 255, 255, 255, 255, 255,   0, 255,   0, 255],\n",
       "       [255,   0,   0,   0, 255,   0, 255,   0,   0,   0,   0,   0, 255,\n",
       "          0,   0,   0, 255,   0,   0,   0,   0,   0, 255,   0, 255],\n",
       "       [255,   0, 255,   0, 255,   0, 255, 255, 255, 255, 255,   0, 255,\n",
       "        255, 255, 255, 255,   0, 255, 255, 255, 255, 255,   0, 255],\n",
       "       [255,   0, 255,   0, 255,   0,   0,   0,   0,   0,   0,   0,   0,\n",
       "          0,   0,   0, 255,   0, 255,   0,   0,   0,   0,   0, 255],\n",
       "       [255,   0, 255,   0, 255, 255, 255, 255, 255, 255, 255, 255, 255,\n",
       "        255, 255, 255, 255,   0, 255,   0, 255,   0, 255, 255, 255],\n",
       "       [255,   0, 255,   0,   0,   0,   0,   0,   0,   0,   0,   0,   0,\n",
       "          0, 255,   0,   0,   0, 255,   0, 255,   0,   0,   0, 255],\n",
       "       [255,   0, 255, 255, 255, 255, 255, 255, 255, 255, 255, 255, 255,\n",
       "          0, 255,   0, 255, 255, 255, 255, 255, 255, 255,   0, 255],\n",
       "       [255,   0, 255,   0,   0,   0,   0,   0, 255,   0,   0,   0,   0,\n",
       "          0, 255,   0,   0,   0,   0,   0,   0,   0,   0,   0, 255],\n",
       "       [255,   0, 255, 255, 255, 255, 255,   0, 255,   0, 255, 255, 255,\n",
       "          0, 255, 255, 255, 255, 255, 255, 255, 255, 255,   0, 255],\n",
       "       [255,   0,   0,   0, 255,   0,   0,   0, 255,   0,   0,   0, 255,\n",
       "          0,   0,   0, 255,   0,   0,   0,   0,   0, 255,   0, 255],\n",
       "       [255, 255, 255,   0, 255,   0, 255,   0, 255, 255, 255,   0, 255,\n",
       "        255, 255, 255, 255,   0, 255, 255, 255,   0, 255,   0, 255],\n",
       "       [255,   0, 255,   0, 255,   0, 255,   0,   0,   0, 255,   0,   0,\n",
       "          0,   0,   0, 255,   0,   0,   0, 255,   0, 255,   0, 255],\n",
       "       [255,   0, 255,   0, 255,   0, 255, 255, 255,   0, 255, 255, 255,\n",
       "        255, 255,   0, 255, 255, 255,   0, 255,   0, 255,   0, 255],\n",
       "       [255,   0,   0,   0, 255,   0, 255,   0, 255,   0,   0,   0,   0,\n",
       "          0, 255,   0,   0,   0,   0,   0, 255,   0, 255,   0, 255],\n",
       "       [255,   0, 255, 255, 255,   0, 255,   0, 255, 255, 255, 255, 255,\n",
       "          0, 255, 255, 255, 255, 255, 255, 255,   0, 255,   0, 255],\n",
       "       [255,   0, 255,   0,   0,   0, 255,   0,   0,   0, 255,   0,   0,\n",
       "          0, 255,   0,   0,   0, 255,   0, 255,   0, 255,   0, 255],\n",
       "       [255,   0, 255, 255, 255,   0, 255,   0, 255, 255, 255,   0, 255,\n",
       "        255, 255,   0, 255,   0, 255,   0, 255,   0, 255,   0, 255],\n",
       "       [255,   0,   0,   0,   0,   0, 255,   0,   0,   0,   0,   0,   0,\n",
       "          0,   0,   0, 255,   0,   0,   0, 255,   0,   0,   0, 255],\n",
       "       [255, 255, 255, 255, 255, 255, 255, 255, 255, 255, 255, 255, 255,\n",
       "        255, 255, 255, 255, 255, 255, 255, 255, 255, 255, 255, 255]],\n",
       "      dtype=uint8)"
      ]
     },
     "execution_count": 10,
     "metadata": {},
     "output_type": "execute_result"
    }
   ],
   "source": [
    "im_array"
   ]
  },
  {
   "cell_type": "code",
   "execution_count": 11,
   "metadata": {},
   "outputs": [],
   "source": [
    "import io\n",
    "import ipywidgets as widgets"
   ]
  },
  {
   "cell_type": "code",
   "execution_count": 15,
   "metadata": {},
   "outputs": [],
   "source": [
    "buff = io.BytesIO()\n",
    "img = Image.fromarray(im_array).resize((400, 400))\n",
    "img.save(buff, format='png')"
   ]
  },
  {
   "cell_type": "code",
   "execution_count": 16,
   "metadata": {},
   "outputs": [
    {
     "data": {
      "application/vnd.jupyter.widget-view+json": {
       "model_id": "d57c40983da0439c9220f49415d72647",
       "version_major": 2,
       "version_minor": 0
      },
      "text/plain": [
       "Image(value=b'\\x89PNG\\r\\n\\x1a\\n\\x00\\x00\\x00\\rIHDR\\x00\\x00\\x01\\x90\\x00\\x00\\x01\\x90\\x08\\x00\\x00\\x00\\x00\\xa5\\xd4i…"
      ]
     },
     "metadata": {},
     "output_type": "display_data"
    }
   ],
   "source": [
    " widgets.Image(value=buff.getvalue(), format='png')"
   ]
  },
  {
   "cell_type": "code",
   "execution_count": null,
   "metadata": {},
   "outputs": [],
   "source": []
  }
 ],
 "metadata": {
  "colab": {
   "collapsed_sections": [],
   "name": "notebook.ipynb",
   "provenance": []
  },
  "kernelspec": {
   "display_name": "Python 3 (ipykernel)",
   "language": "python",
   "name": "python3"
  },
  "language_info": {
   "codemirror_mode": {
    "name": "ipython",
    "version": 3
   },
   "file_extension": ".py",
   "mimetype": "text/x-python",
   "name": "python",
   "nbconvert_exporter": "python",
   "pygments_lexer": "ipython3",
   "version": "3.8.10"
  }
 },
 "nbformat": 4,
 "nbformat_minor": 4
}
