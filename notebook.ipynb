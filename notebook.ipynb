{
 "cells": [
  {
   "cell_type": "code",
   "execution_count": null,
   "metadata": {
    "id": "IKyurnIXMOd_"
   },
   "outputs": [],
   "source": [
    "%load_ext autoreload\n",
    "%autoreload 2"
   ]
  },
  {
   "cell_type": "code",
   "execution_count": null,
   "metadata": {
    "colab": {
     "base_uri": "https://localhost:8080/"
    },
    "id": "zVce05OPBOeD",
    "outputId": "8ffd7fc3-31aa-4a03-ad5c-5885159b627a"
   },
   "outputs": [],
   "source": [
    "import sys\n",
    "if 'google.colab'in sys.modules:\n",
    "  !pip install scikit-decide[all]"
   ]
  },
  {
   "cell_type": "code",
   "execution_count": null,
   "metadata": {
    "colab": {
     "base_uri": "https://localhost:8080/"
    },
    "id": "ux_OarNsKvtq",
    "outputId": "7a4b20bb-d9a0-48e6-8061-93b8cdf101d9"
   },
   "outputs": [],
   "source": [
    "!(rm -rf scikit-maze/; git clone https://github.com/galleon/scikit-maze.git)"
   ]
  },
  {
   "cell_type": "code",
   "execution_count": null,
   "metadata": {
    "id": "ZQFxdDmxLO0I"
   },
   "outputs": [],
   "source": [
    "sys.path.insert(0,'./scikit-maze')"
   ]
  },
  {
   "cell_type": "code",
   "execution_count": null,
   "metadata": {
    "id": "AxcQEPf6BVXS"
   },
   "outputs": [],
   "source": [
    "from enum import Enum\n",
    "from typing import Any, List, NamedTuple, Optional\n",
    "\n",
    "from skdecide import DeterministicPlanningDomain, Space, Value\n",
    "from skdecide.builders.domain import UnrestrictedActions, Renderable\n",
    "from skdecide.utils import rollout, match_solvers, load_registered_solver\n",
    "from skdecide.hub.space.gym import ListSpace, EnumSpace, MultiDiscreteSpace\n",
    "from skdecide.hub.solver.lazy_astar import LazyAstar\n",
    "\n",
    "from utils import Maze"
   ]
  },
  {
   "cell_type": "code",
   "execution_count": null,
   "metadata": {
    "id": "T8dU9ZDpIdPS"
   },
   "outputs": [],
   "source": [
    "from PIL import Image"
   ]
  },
  {
   "cell_type": "code",
   "execution_count": null,
   "metadata": {
    "id": "-QJLCG6CIdPT"
   },
   "outputs": [],
   "source": [
    "import io\n",
    "import ipywidgets as widgets"
   ]
  },
  {
   "cell_type": "markdown",
   "metadata": {
    "id": "zn83TcYqIdPU"
   },
   "source": [
    "## Define Action & State spaces"
   ]
  },
  {
   "cell_type": "code",
   "execution_count": null,
   "metadata": {
    "id": "AyomMt85IdPV"
   },
   "outputs": [],
   "source": [
    "class State(NamedTuple):\n",
    "  x: int\n",
    "  y: int\n",
    "\n",
    "class Action(Enum):\n",
    "  up = 0\n",
    "  down = 1\n",
    "  left = 2\n",
    "  right = 3"
   ]
  },
  {
   "cell_type": "markdown",
   "metadata": {
    "id": "xMIKBP3ZIdPW"
   },
   "source": [
    "## Define a base domain"
   ]
  },
  {
   "cell_type": "code",
   "execution_count": null,
   "metadata": {
    "id": "lf1fV52dIdPW"
   },
   "outputs": [],
   "source": [
    "class D(DeterministicPlanningDomain, UnrestrictedActions, Renderable):\n",
    "  T_state = State  # Type of states\n",
    "  T_observation = T_state  # Type of observations\n",
    "  T_event = Action  # Type of events\n",
    "  T_value = float  # Type of transition values (rewards or costs)\n",
    "  T_predicate = bool  # Type of logical checks\n",
    "  T_info = None  # Type of additional information in environment outcome"
   ]
  },
  {
   "cell_type": "markdown",
   "metadata": {
    "id": "T2sUSfC9IdPX"
   },
   "source": [
    "## Create the maze domain"
   ]
  },
  {
   "cell_type": "code",
   "execution_count": null,
   "metadata": {
    "id": "G_-OQP57IdPX"
   },
   "outputs": [],
   "source": [
    "from math import sqrt\n",
    "\n",
    "class MazeDomain(D):\n",
    "\n",
    "  def __init__(self, start, end, maze, image_widget=None):\n",
    "    self.start = start\n",
    "    self.end = end\n",
    "    self.maze = maze\n",
    "    self.image_widget = image_widget\n",
    "    #if self.image_widget:\n",
    "    #    self.image_widget.layout = widgets.Layout(width='200px')\n",
    "\n",
    "  def _get_next_state(self, memory: State, action: Action) -> State:\n",
    "    # Move agent according to action (except if bumping into a wall)\n",
    "    next_x, next_y = memory.x, memory.y\n",
    "    if action == Action.up:\n",
    "      next_x -= 1\n",
    "    if action == Action.down:\n",
    "      next_x += 1\n",
    "    if action == Action.left:\n",
    "       next_y -= 1\n",
    "    if action == Action.right:\n",
    "       next_y += 1\n",
    "    return State(next_x, next_y) if self.maze.is_an_empty_cell(next_x, next_y) else memory\n",
    "\n",
    "  def _get_transition_value(self, memory: State, action: Action, next_state: Action = None) -> \\\n",
    "      Value[D.T_value]:\n",
    "    # Set cost to 1 when moving (energy cost) and to 2 when bumping into a wall (damage cost)\n",
    "    return Value(cost=1 if next_state != memory else 2)\n",
    "\n",
    "  def _get_initial_state_(self) -> State:\n",
    "    # Set the start position as initial state\n",
    "    return self.start\n",
    "\n",
    "  def _get_goals_(self) -> Space[D.T_observation]:\n",
    "    # Set the end position as goal\n",
    "    return ListSpace([self.end])\n",
    "\n",
    "  def _is_terminal(self, state: State) -> D.T_agent[D.T_predicate]:\n",
    "    # Stop an episode only when goal reached\n",
    "    return self._is_goal(state)\n",
    "\n",
    "  def _get_action_space_(self) -> Space[D.T_event]:\n",
    "    # Define action space\n",
    "    return EnumSpace(Action)\n",
    "\n",
    "  def _get_observation_space_(self) -> Space[D.T_observation]:\n",
    "    # Define observation space\n",
    "    num_rows = self.maze.height\n",
    "    num_cols = self.maze.width\n",
    "    return MultiDiscreteSpace([num_rows, num_cols])\n",
    "\n",
    "  def _render_from(self, memory: State, **kwargs: Any) -> Any:\n",
    "    buff = io.BytesIO()\n",
    "    maze_ = self.maze.get_image(memory.x, memory.y).repeat(4, 0).repeat(4, 1)\n",
    "    img = Image.fromarray(maze_)\n",
    "    img.save(buff, format='png')\n",
    "    return buff.getvalue()\n",
    "            \n",
    "  def heuristic(self, s: State) -> Value:\n",
    "     return Value(cost=sqrt((self.end.x - s.x)**2 + (self.end.y - s.y)**2))\n",
    "    \n",
    "  def state_features(self, s: State) -> List[float]:\n",
    "    return [s.x, s.y]"
   ]
  },
  {
   "cell_type": "markdown",
   "metadata": {
    "id": "yDgxGTXiIdPX"
   },
   "source": [
    "## Define a Maze"
   ]
  },
  {
   "cell_type": "code",
   "execution_count": null,
   "metadata": {
    "id": "T7uyosVBIdPY"
   },
   "outputs": [],
   "source": [
    "height, width = 50, 50\n",
    "\n",
    "maze = Maze(width, height)\n",
    "\n",
    "domain_factory = lambda: MazeDomain(State(1, 1), State(width-1, height-1), maze)"
   ]
  },
  {
   "cell_type": "markdown",
   "metadata": {
    "id": "cfbiml5rIdPY"
   },
   "source": [
    "## Render the maze"
   ]
  },
  {
   "cell_type": "code",
   "execution_count": null,
   "metadata": {
    "colab": {
     "base_uri": "https://localhost:8080/",
     "height": 227,
     "referenced_widgets": [
      "62efc6c3c18a4dd68c34c62eb5197b00",
      "58b4240294b34589b2f83a7c69efb539"
     ]
    },
    "id": "WOFya35MIdPY",
    "outputId": "8b3c1629-59d9-4e30-b698-f7631212bc75"
   },
   "outputs": [],
   "source": [
    "widgets.Image(value=domain_factory()._render_from(State(1, 1)))"
   ]
  },
  {
   "cell_type": "code",
   "execution_count": null,
   "metadata": {
    "colab": {
     "base_uri": "https://localhost:8080/",
     "height": 227,
     "referenced_widgets": [
      "8a2a5eac57704ad7add2c2ff4d9792e7",
      "6e9bc75ec22a483ead4376316f6a4d20"
     ]
    },
    "id": "J4UDCq1DIdPZ",
    "outputId": "9246417c-f447-4153-83f9-cf0e9b46b501"
   },
   "outputs": [],
   "source": [
    "widgets.Image(value=domain_factory()._render_from(State(49, 49)))"
   ]
  },
  {
   "cell_type": "markdown",
   "metadata": {
    "id": "Iqd7YAQHIdPZ"
   },
   "source": [
    "## Let solve with A*\n",
    "\n",
    "Let's try to use a first solver named A. A (pronounced \"A-star\") is a graph traversal and path search algorithm, which is often used in many fields of computer science due to its completeness, optimality, and optimal efficiency.\n",
    "\n",
    "One major practical drawback is its  𝑂(𝑏𝑑)  space complexity, as it stores all generated nodes in memory."
   ]
  },
  {
   "cell_type": "code",
   "execution_count": null,
   "metadata": {
    "colab": {
     "base_uri": "https://localhost:8080/",
     "height": 224,
     "referenced_widgets": [
      "d0b4e3867e074cd5b0bbd3faaba01632",
      "86c734e6d5fc47bd9b45e2f6cda1c611",
      "755645747b4a4e62ab786349fbdadd99",
      "a2f6edf35e2f41b5bc2005de614c14e9",
      "02f474c929a24857bac0eb0fe6a62f37",
      "68cfd6e55f3c4e078ba5fc506f3c9689"
     ]
    },
    "id": "7KntbA6CIdPa",
    "outputId": "7d59cab1-dd2e-4026-e69f-ce8ea8899d09"
   },
   "outputs": [],
   "source": [
    "import time\n",
    "\n",
    "out = widgets.Output()\n",
    "img = widgets.Image(format='png', layout=widgets.Layout(max_width='300px'))\n",
    "display(widgets.VBox([img, out]))\n",
    "\n",
    "domain = domain_factory()\n",
    "\n",
    "# Check that we can solve the Maze with LazyAstar\n",
    "assert LazyAstar.check_domain(domain)\n",
    "\n",
    "# All good, let's use LazyAstar\n",
    "with LazyAstar() as solver:\n",
    "  # Let's solve the domain\n",
    "  MazeDomain.solve_with(solver, domain_factory)\n",
    "    \n",
    "  # Now let's see the solution\n",
    "  for i_episode in range(1):\n",
    "    # Initialize episode\n",
    "    solver.reset()\n",
    "    observation = domain.reset()\n",
    "            \n",
    "    # Let's define maximum number of steps\n",
    "    step, max_steps = 1, 1000\n",
    "\n",
    "    while step <= max_steps:\n",
    "\n",
    "      if isinstance(domain, Renderable):\n",
    "        img.value = domain._render_from(observation)\n",
    "    \n",
    "      action = solver.sample_action(observation)\n",
    "    \n",
    "      outcome = domain.step(action)\n",
    "      observation = outcome.observation\n",
    "\n",
    "      termination = domain._is_terminal(observation)\n",
    "      if termination:\n",
    "        with out:\n",
    "          print(f'Episode {i_episode + 1} terminated after {step + 1} steps.')\n",
    "        break\n",
    "\n",
    "      time.sleep(0.1)\n",
    "      step += 1\n",
    "        \n",
    "      if isinstance(domain, Renderable):\n",
    "        img.value = domain._render_from(observation)\n",
    "  with out:    \n",
    "    print(f'The goal was {\"\" if domain.is_goal(observation) else \" not\"} reached in episode {i_episode + 1}.')"
   ]
  }
 ],
 "metadata": {
  "colab": {
   "collapsed_sections": [],
   "name": "notebook.ipynb",
   "provenance": []
  },
  "kernelspec": {
   "display_name": "Python 3 (ipykernel)",
   "language": "python",
   "name": "python3"
  },
  "language_info": {
   "codemirror_mode": {
    "name": "ipython",
    "version": 3
   },
   "file_extension": ".py",
   "mimetype": "text/x-python",
   "name": "python",
   "nbconvert_exporter": "python",
   "pygments_lexer": "ipython3",
   "version": "3.8.10"
  },
  "widgets": {
   "application/vnd.jupyter.widget-state+json": {
    "02f474c929a24857bac0eb0fe6a62f37": {
     "model_module": "@jupyter-widgets/base",
     "model_module_version": "1.2.0",
     "model_name": "LayoutModel",
     "state": {
      "_model_module": "@jupyter-widgets/base",
      "_model_module_version": "1.2.0",
      "_model_name": "LayoutModel",
      "_view_count": null,
      "_view_module": "@jupyter-widgets/base",
      "_view_module_version": "1.2.0",
      "_view_name": "LayoutView",
      "align_content": null,
      "align_items": null,
      "align_self": null,
      "border": null,
      "bottom": null,
      "display": null,
      "flex": null,
      "flex_flow": null,
      "grid_area": null,
      "grid_auto_columns": null,
      "grid_auto_flow": null,
      "grid_auto_rows": null,
      "grid_column": null,
      "grid_gap": null,
      "grid_row": null,
      "grid_template_areas": null,
      "grid_template_columns": null,
      "grid_template_rows": null,
      "height": null,
      "justify_content": null,
      "justify_items": null,
      "left": null,
      "margin": null,
      "max_height": null,
      "max_width": null,
      "min_height": null,
      "min_width": null,
      "object_fit": null,
      "object_position": null,
      "order": null,
      "overflow": null,
      "overflow_x": null,
      "overflow_y": null,
      "padding": null,
      "right": null,
      "top": null,
      "visibility": null,
      "width": null
     }
    },
    "58b4240294b34589b2f83a7c69efb539": {
     "model_module": "@jupyter-widgets/base",
     "model_module_version": "1.2.0",
     "model_name": "LayoutModel",
     "state": {
      "_model_module": "@jupyter-widgets/base",
      "_model_module_version": "1.2.0",
      "_model_name": "LayoutModel",
      "_view_count": null,
      "_view_module": "@jupyter-widgets/base",
      "_view_module_version": "1.2.0",
      "_view_name": "LayoutView",
      "align_content": null,
      "align_items": null,
      "align_self": null,
      "border": null,
      "bottom": null,
      "display": null,
      "flex": null,
      "flex_flow": null,
      "grid_area": null,
      "grid_auto_columns": null,
      "grid_auto_flow": null,
      "grid_auto_rows": null,
      "grid_column": null,
      "grid_gap": null,
      "grid_row": null,
      "grid_template_areas": null,
      "grid_template_columns": null,
      "grid_template_rows": null,
      "height": null,
      "justify_content": null,
      "justify_items": null,
      "left": null,
      "margin": null,
      "max_height": null,
      "max_width": null,
      "min_height": null,
      "min_width": null,
      "object_fit": null,
      "object_position": null,
      "order": null,
      "overflow": null,
      "overflow_x": null,
      "overflow_y": null,
      "padding": null,
      "right": null,
      "top": null,
      "visibility": null,
      "width": null
     }
    },
    "62efc6c3c18a4dd68c34c62eb5197b00": {
     "model_module": "@jupyter-widgets/controls",
     "model_module_version": "1.5.0",
     "model_name": "ImageModel",
     "state": {
      "_dom_classes": [],
      "_model_module": "@jupyter-widgets/controls",
      "_model_module_version": "1.5.0",
      "_model_name": "ImageModel",
      "_view_count": null,
      "_view_module": "@jupyter-widgets/controls",
      "_view_module_version": "1.5.0",
      "_view_name": "ImageView",
      "format": "png",
      "height": "",
      "layout": "IPY_MODEL_58b4240294b34589b2f83a7c69efb539",
      "width": ""
     }
    },
    "68cfd6e55f3c4e078ba5fc506f3c9689": {
     "model_module": "@jupyter-widgets/base",
     "model_module_version": "1.2.0",
     "model_name": "LayoutModel",
     "state": {
      "_model_module": "@jupyter-widgets/base",
      "_model_module_version": "1.2.0",
      "_model_name": "LayoutModel",
      "_view_count": null,
      "_view_module": "@jupyter-widgets/base",
      "_view_module_version": "1.2.0",
      "_view_name": "LayoutView",
      "align_content": null,
      "align_items": null,
      "align_self": null,
      "border": null,
      "bottom": null,
      "display": null,
      "flex": null,
      "flex_flow": null,
      "grid_area": null,
      "grid_auto_columns": null,
      "grid_auto_flow": null,
      "grid_auto_rows": null,
      "grid_column": null,
      "grid_gap": null,
      "grid_row": null,
      "grid_template_areas": null,
      "grid_template_columns": null,
      "grid_template_rows": null,
      "height": null,
      "justify_content": null,
      "justify_items": null,
      "left": null,
      "margin": null,
      "max_height": null,
      "max_width": null,
      "min_height": null,
      "min_width": null,
      "object_fit": null,
      "object_position": null,
      "order": null,
      "overflow": null,
      "overflow_x": null,
      "overflow_y": null,
      "padding": null,
      "right": null,
      "top": null,
      "visibility": null,
      "width": null
     }
    },
    "6e9bc75ec22a483ead4376316f6a4d20": {
     "model_module": "@jupyter-widgets/base",
     "model_module_version": "1.2.0",
     "model_name": "LayoutModel",
     "state": {
      "_model_module": "@jupyter-widgets/base",
      "_model_module_version": "1.2.0",
      "_model_name": "LayoutModel",
      "_view_count": null,
      "_view_module": "@jupyter-widgets/base",
      "_view_module_version": "1.2.0",
      "_view_name": "LayoutView",
      "align_content": null,
      "align_items": null,
      "align_self": null,
      "border": null,
      "bottom": null,
      "display": null,
      "flex": null,
      "flex_flow": null,
      "grid_area": null,
      "grid_auto_columns": null,
      "grid_auto_flow": null,
      "grid_auto_rows": null,
      "grid_column": null,
      "grid_gap": null,
      "grid_row": null,
      "grid_template_areas": null,
      "grid_template_columns": null,
      "grid_template_rows": null,
      "height": null,
      "justify_content": null,
      "justify_items": null,
      "left": null,
      "margin": null,
      "max_height": null,
      "max_width": null,
      "min_height": null,
      "min_width": null,
      "object_fit": null,
      "object_position": null,
      "order": null,
      "overflow": null,
      "overflow_x": null,
      "overflow_y": null,
      "padding": null,
      "right": null,
      "top": null,
      "visibility": null,
      "width": null
     }
    },
    "755645747b4a4e62ab786349fbdadd99": {
     "model_module": "@jupyter-widgets/controls",
     "model_module_version": "1.5.0",
     "model_name": "ImageModel",
     "state": {
      "_dom_classes": [],
      "_model_module": "@jupyter-widgets/controls",
      "_model_module_version": "1.5.0",
      "_model_name": "ImageModel",
      "_view_count": null,
      "_view_module": "@jupyter-widgets/controls",
      "_view_module_version": "1.5.0",
      "_view_name": "ImageView",
      "format": "png",
      "height": "",
      "layout": "IPY_MODEL_02f474c929a24857bac0eb0fe6a62f37",
      "width": ""
     }
    },
    "86c734e6d5fc47bd9b45e2f6cda1c611": {
     "model_module": "@jupyter-widgets/base",
     "model_module_version": "1.2.0",
     "model_name": "LayoutModel",
     "state": {
      "_model_module": "@jupyter-widgets/base",
      "_model_module_version": "1.2.0",
      "_model_name": "LayoutModel",
      "_view_count": null,
      "_view_module": "@jupyter-widgets/base",
      "_view_module_version": "1.2.0",
      "_view_name": "LayoutView",
      "align_content": null,
      "align_items": null,
      "align_self": null,
      "border": null,
      "bottom": null,
      "display": null,
      "flex": null,
      "flex_flow": null,
      "grid_area": null,
      "grid_auto_columns": null,
      "grid_auto_flow": null,
      "grid_auto_rows": null,
      "grid_column": null,
      "grid_gap": null,
      "grid_row": null,
      "grid_template_areas": null,
      "grid_template_columns": null,
      "grid_template_rows": null,
      "height": null,
      "justify_content": null,
      "justify_items": null,
      "left": null,
      "margin": null,
      "max_height": null,
      "max_width": null,
      "min_height": null,
      "min_width": null,
      "object_fit": null,
      "object_position": null,
      "order": null,
      "overflow": null,
      "overflow_x": null,
      "overflow_y": null,
      "padding": null,
      "right": null,
      "top": null,
      "visibility": null,
      "width": null
     }
    },
    "8a2a5eac57704ad7add2c2ff4d9792e7": {
     "model_module": "@jupyter-widgets/controls",
     "model_module_version": "1.5.0",
     "model_name": "ImageModel",
     "state": {
      "_dom_classes": [],
      "_model_module": "@jupyter-widgets/controls",
      "_model_module_version": "1.5.0",
      "_model_name": "ImageModel",
      "_view_count": null,
      "_view_module": "@jupyter-widgets/controls",
      "_view_module_version": "1.5.0",
      "_view_name": "ImageView",
      "format": "png",
      "height": "",
      "layout": "IPY_MODEL_6e9bc75ec22a483ead4376316f6a4d20",
      "width": ""
     }
    },
    "a2f6edf35e2f41b5bc2005de614c14e9": {
     "model_module": "@jupyter-widgets/output",
     "model_module_version": "1.0.0",
     "model_name": "OutputModel",
     "state": {
      "_dom_classes": [],
      "_model_module": "@jupyter-widgets/output",
      "_model_module_version": "1.0.0",
      "_model_name": "OutputModel",
      "_view_count": null,
      "_view_module": "@jupyter-widgets/output",
      "_view_module_version": "1.0.0",
      "_view_name": "OutputView",
      "layout": "IPY_MODEL_68cfd6e55f3c4e078ba5fc506f3c9689",
      "msg_id": "",
      "outputs": [
       {
        "name": "stdout",
        "output_type": "stream",
        "text": [
         "Episode 1 terminated after 529 steps.\n"
        ]
       },
       {
        "name": "stdout",
        "output_type": "stream",
        "text": [
         "The goal was  reached in episode 1.\n"
        ]
       }
      ]
     }
    },
    "d0b4e3867e074cd5b0bbd3faaba01632": {
     "model_module": "@jupyter-widgets/controls",
     "model_module_version": "1.5.0",
     "model_name": "HBoxModel",
     "state": {
      "_dom_classes": [],
      "_model_module": "@jupyter-widgets/controls",
      "_model_module_version": "1.5.0",
      "_model_name": "HBoxModel",
      "_view_count": null,
      "_view_module": "@jupyter-widgets/controls",
      "_view_module_version": "1.5.0",
      "_view_name": "HBoxView",
      "box_style": "",
      "children": [
       "IPY_MODEL_755645747b4a4e62ab786349fbdadd99",
       "IPY_MODEL_a2f6edf35e2f41b5bc2005de614c14e9"
      ],
      "layout": "IPY_MODEL_86c734e6d5fc47bd9b45e2f6cda1c611"
     }
    }
   }
  }
 },
 "nbformat": 4,
 "nbformat_minor": 1
}
