{
  "nbformat": 4,
  "nbformat_minor": 0,
  "metadata": {
    "colab": {
      "name": "notebook.ipynb",
      "provenance": [],
      "collapsed_sections": []
    },
    "kernelspec": {
      "name": "python3",
      "display_name": "Python 3"
    },
    "language_info": {
      "name": "python"
    }
  },
  "cells": [
    {
      "cell_type": "code",
      "metadata": {
        "id": "IKyurnIXMOd_"
      },
      "source": [
        "%load_ext autoreload\n",
        "%autoreload 2"
      ],
      "execution_count": 1,
      "outputs": []
    },
    {
      "cell_type": "code",
      "metadata": {
        "id": "Gxl2trTDNGiX"
      },
      "source": [
        "!rm -rf scikit-maze/"
      ],
      "execution_count": 2,
      "outputs": []
    },
    {
      "cell_type": "code",
      "metadata": {
        "colab": {
          "base_uri": "https://localhost:8080/"
        },
        "id": "zVce05OPBOeD",
        "outputId": "6857831b-f00f-48ff-a71a-b410b47c6cbf"
      },
      "source": [
        "!pip install scikit-decide[all]"
      ],
      "execution_count": 4,
      "outputs": [
        {
          "output_type": "stream",
          "name": "stdout",
          "text": [
            "Requirement already satisfied: scikit-decide[all] in /usr/local/lib/python3.7/dist-packages (0.9.2)\n",
            "Requirement already satisfied: pynng<0.7.0,>=0.6.2 in /usr/local/lib/python3.7/dist-packages (from scikit-decide[all]) (0.6.2)\n",
            "Requirement already satisfied: pathos<0.3.0,>=0.2.7 in /usr/local/lib/python3.7/dist-packages (from scikit-decide[all]) (0.2.8)\n",
            "Requirement already satisfied: joblib<2.0.0,>=1.0.1 in /usr/local/lib/python3.7/dist-packages (from scikit-decide[all]) (1.0.1)\n",
            "Requirement already satisfied: deap<2.0.0,>=1.3.1 in /usr/local/lib/python3.7/dist-packages (from scikit-decide[all]) (1.3.1)\n",
            "Requirement already satisfied: mip<2.0.0,>=1.13.0 in /usr/local/lib/python3.7/dist-packages (from scikit-decide[all]) (1.13.0)\n",
            "Requirement already satisfied: gym<0.19.0,>=0.18.0 in /usr/local/lib/python3.7/dist-packages (from scikit-decide[all]) (0.18.3)\n",
            "Requirement already satisfied: minizinc<0.5.0,>=0.4.2 in /usr/local/lib/python3.7/dist-packages (from scikit-decide[all]) (0.4.2)\n",
            "Requirement already satisfied: networkx<3.0,>=2.5 in /usr/local/lib/python3.7/dist-packages (from scikit-decide[all]) (2.6.2)\n",
            "Requirement already satisfied: simplejson<4.0.0,>=3.17.2 in /usr/local/lib/python3.7/dist-packages (from scikit-decide[all]) (3.17.5)\n",
            "Requirement already satisfied: stable-baselines3<0.12.0,>=0.11.1 in /usr/local/lib/python3.7/dist-packages (from scikit-decide[all]) (0.11.1)\n",
            "Requirement already satisfied: torch<2.0.0,>=1.8.0 in /usr/local/lib/python3.7/dist-packages (from scikit-decide[all]) (1.9.0+cu102)\n",
            "Requirement already satisfied: numpy<2.0.0,>=1.20.1 in /usr/local/lib/python3.7/dist-packages (from scikit-decide[all]) (1.21.2)\n",
            "Requirement already satisfied: matplotlib<4.0.0,>=3.3.4 in /usr/local/lib/python3.7/dist-packages (from scikit-decide[all]) (3.4.2)\n",
            "Requirement already satisfied: ray[rllib]<2.0.0,>=1.2.0 in /usr/local/lib/python3.7/dist-packages (from scikit-decide[all]) (1.6.0)\n",
            "Requirement already satisfied: Pillow<=8.2.0 in /usr/local/lib/python3.7/dist-packages (from gym<0.19.0,>=0.18.0->scikit-decide[all]) (7.1.2)\n",
            "Requirement already satisfied: pyglet<=1.5.15,>=1.4.0 in /usr/local/lib/python3.7/dist-packages (from gym<0.19.0,>=0.18.0->scikit-decide[all]) (1.5.0)\n",
            "Requirement already satisfied: scipy in /usr/local/lib/python3.7/dist-packages (from gym<0.19.0,>=0.18.0->scikit-decide[all]) (1.4.1)\n",
            "Requirement already satisfied: cloudpickle<1.7.0,>=1.2.0 in /usr/local/lib/python3.7/dist-packages (from gym<0.19.0,>=0.18.0->scikit-decide[all]) (1.3.0)\n",
            "Requirement already satisfied: kiwisolver>=1.0.1 in /usr/local/lib/python3.7/dist-packages (from matplotlib<4.0.0,>=3.3.4->scikit-decide[all]) (1.3.1)\n",
            "Requirement already satisfied: pyparsing>=2.2.1 in /usr/local/lib/python3.7/dist-packages (from matplotlib<4.0.0,>=3.3.4->scikit-decide[all]) (2.4.7)\n",
            "Requirement already satisfied: cycler>=0.10 in /usr/local/lib/python3.7/dist-packages (from matplotlib<4.0.0,>=3.3.4->scikit-decide[all]) (0.10.0)\n",
            "Requirement already satisfied: python-dateutil>=2.7 in /usr/local/lib/python3.7/dist-packages (from matplotlib<4.0.0,>=3.3.4->scikit-decide[all]) (2.8.2)\n",
            "Requirement already satisfied: six in /usr/local/lib/python3.7/dist-packages (from cycler>=0.10->matplotlib<4.0.0,>=3.3.4->scikit-decide[all]) (1.15.0)\n",
            "Requirement already satisfied: cffi in /usr/local/lib/python3.7/dist-packages (from mip<2.0.0,>=1.13.0->scikit-decide[all]) (1.14.6)\n",
            "Requirement already satisfied: pox>=0.3.0 in /usr/local/lib/python3.7/dist-packages (from pathos<0.3.0,>=0.2.7->scikit-decide[all]) (0.3.0)\n",
            "Requirement already satisfied: multiprocess>=0.70.12 in /usr/local/lib/python3.7/dist-packages (from pathos<0.3.0,>=0.2.7->scikit-decide[all]) (0.70.12.2)\n",
            "Requirement already satisfied: dill>=0.3.4 in /usr/local/lib/python3.7/dist-packages (from pathos<0.3.0,>=0.2.7->scikit-decide[all]) (0.3.4)\n",
            "Requirement already satisfied: ppft>=1.6.6.4 in /usr/local/lib/python3.7/dist-packages (from pathos<0.3.0,>=0.2.7->scikit-decide[all]) (1.6.6.4)\n",
            "Requirement already satisfied: future in /usr/local/lib/python3.7/dist-packages (from pyglet<=1.5.15,>=1.4.0->gym<0.19.0,>=0.18.0->scikit-decide[all]) (0.16.0)\n",
            "Requirement already satisfied: sniffio in /usr/local/lib/python3.7/dist-packages (from pynng<0.7.0,>=0.6.2->scikit-decide[all]) (1.2.0)\n",
            "Requirement already satisfied: click>=7.0 in /usr/local/lib/python3.7/dist-packages (from ray[rllib]<2.0.0,>=1.2.0->scikit-decide[all]) (7.1.2)\n",
            "Requirement already satisfied: protobuf>=3.15.3 in /usr/local/lib/python3.7/dist-packages (from ray[rllib]<2.0.0,>=1.2.0->scikit-decide[all]) (3.17.3)\n",
            "Requirement already satisfied: attrs in /usr/local/lib/python3.7/dist-packages (from ray[rllib]<2.0.0,>=1.2.0->scikit-decide[all]) (21.2.0)\n",
            "Requirement already satisfied: redis>=3.5.0 in /usr/local/lib/python3.7/dist-packages (from ray[rllib]<2.0.0,>=1.2.0->scikit-decide[all]) (3.5.3)\n",
            "Requirement already satisfied: grpcio>=1.28.1 in /usr/local/lib/python3.7/dist-packages (from ray[rllib]<2.0.0,>=1.2.0->scikit-decide[all]) (1.39.0)\n",
            "Requirement already satisfied: filelock in /usr/local/lib/python3.7/dist-packages (from ray[rllib]<2.0.0,>=1.2.0->scikit-decide[all]) (3.0.12)\n",
            "Requirement already satisfied: pyyaml in /usr/local/lib/python3.7/dist-packages (from ray[rllib]<2.0.0,>=1.2.0->scikit-decide[all]) (3.13)\n",
            "Requirement already satisfied: msgpack<2.0.0,>=1.0.0 in /usr/local/lib/python3.7/dist-packages (from ray[rllib]<2.0.0,>=1.2.0->scikit-decide[all]) (1.0.2)\n",
            "Requirement already satisfied: tabulate in /usr/local/lib/python3.7/dist-packages (from ray[rllib]<2.0.0,>=1.2.0->scikit-decide[all]) (0.8.9)\n",
            "Requirement already satisfied: tensorboardX>=1.9 in /usr/local/lib/python3.7/dist-packages (from ray[rllib]<2.0.0,>=1.2.0->scikit-decide[all]) (2.4)\n",
            "Requirement already satisfied: lz4 in /usr/local/lib/python3.7/dist-packages (from ray[rllib]<2.0.0,>=1.2.0->scikit-decide[all]) (3.1.3)\n",
            "Requirement already satisfied: pandas in /usr/local/lib/python3.7/dist-packages (from ray[rllib]<2.0.0,>=1.2.0->scikit-decide[all]) (1.1.5)\n",
            "Requirement already satisfied: scikit-image in /usr/local/lib/python3.7/dist-packages (from ray[rllib]<2.0.0,>=1.2.0->scikit-decide[all]) (0.16.2)\n",
            "Requirement already satisfied: dm-tree in /usr/local/lib/python3.7/dist-packages (from ray[rllib]<2.0.0,>=1.2.0->scikit-decide[all]) (0.1.6)\n",
            "Requirement already satisfied: requests in /usr/local/lib/python3.7/dist-packages (from ray[rllib]<2.0.0,>=1.2.0->scikit-decide[all]) (2.23.0)\n",
            "Requirement already satisfied: typing-extensions in /usr/local/lib/python3.7/dist-packages (from torch<2.0.0,>=1.8.0->scikit-decide[all]) (3.7.4.3)\n",
            "Requirement already satisfied: pycparser in /usr/local/lib/python3.7/dist-packages (from cffi->mip<2.0.0,>=1.13.0->scikit-decide[all]) (2.20)\n",
            "Requirement already satisfied: pytz>=2017.2 in /usr/local/lib/python3.7/dist-packages (from pandas->ray[rllib]<2.0.0,>=1.2.0->scikit-decide[all]) (2018.9)\n",
            "Requirement already satisfied: chardet<4,>=3.0.2 in /usr/local/lib/python3.7/dist-packages (from requests->ray[rllib]<2.0.0,>=1.2.0->scikit-decide[all]) (3.0.4)\n",
            "Requirement already satisfied: urllib3!=1.25.0,!=1.25.1,<1.26,>=1.21.1 in /usr/local/lib/python3.7/dist-packages (from requests->ray[rllib]<2.0.0,>=1.2.0->scikit-decide[all]) (1.24.3)\n",
            "Requirement already satisfied: idna<3,>=2.5 in /usr/local/lib/python3.7/dist-packages (from requests->ray[rllib]<2.0.0,>=1.2.0->scikit-decide[all]) (2.10)\n",
            "Requirement already satisfied: certifi>=2017.4.17 in /usr/local/lib/python3.7/dist-packages (from requests->ray[rllib]<2.0.0,>=1.2.0->scikit-decide[all]) (2021.5.30)\n",
            "Requirement already satisfied: PyWavelets>=0.4.0 in /usr/local/lib/python3.7/dist-packages (from scikit-image->ray[rllib]<2.0.0,>=1.2.0->scikit-decide[all]) (1.1.1)\n",
            "Requirement already satisfied: imageio>=2.3.0 in /usr/local/lib/python3.7/dist-packages (from scikit-image->ray[rllib]<2.0.0,>=1.2.0->scikit-decide[all]) (2.4.1)\n"
          ]
        }
      ]
    },
    {
      "cell_type": "code",
      "metadata": {
        "colab": {
          "base_uri": "https://localhost:8080/"
        },
        "id": "ux_OarNsKvtq",
        "outputId": "276fbeba-764e-4866-ded1-80fe048c6ef0"
      },
      "source": [
        "!git clone https://github.com/galleon/scikit-maze.git"
      ],
      "execution_count": 5,
      "outputs": [
        {
          "output_type": "stream",
          "name": "stdout",
          "text": [
            "Cloning into 'scikit-maze'...\n",
            "remote: Enumerating objects: 6, done.\u001b[K\n",
            "remote: Counting objects:  16% (1/6)\u001b[K\rremote: Counting objects:  33% (2/6)\u001b[K\rremote: Counting objects:  50% (3/6)\u001b[K\rremote: Counting objects:  66% (4/6)\u001b[K\rremote: Counting objects:  83% (5/6)\u001b[K\rremote: Counting objects: 100% (6/6)\u001b[K\rremote: Counting objects: 100% (6/6), done.\u001b[K\n",
            "remote: Compressing objects:  20% (1/5)\u001b[K\rremote: Compressing objects:  40% (2/5)\u001b[K\rremote: Compressing objects:  60% (3/5)\u001b[K\rremote: Compressing objects:  80% (4/5)\u001b[K\rremote: Compressing objects: 100% (5/5)\u001b[K\rremote: Compressing objects: 100% (5/5), done.\u001b[K\n",
            "remote: Total 6 (delta 0), reused 6 (delta 0), pack-reused 0\u001b[K\n",
            "Unpacking objects:  16% (1/6)   \rUnpacking objects:  33% (2/6)   \rUnpacking objects:  50% (3/6)   \rUnpacking objects:  66% (4/6)   \rUnpacking objects:  83% (5/6)   \rUnpacking objects: 100% (6/6)   \rUnpacking objects: 100% (6/6), done.\n"
          ]
        }
      ]
    },
    {
      "cell_type": "code",
      "metadata": {
        "id": "ZQFxdDmxLO0I"
      },
      "source": [
        "import sys\n",
        "sys.path.insert(0,'./scikit-maze')"
      ],
      "execution_count": 11,
      "outputs": []
    },
    {
      "cell_type": "markdown",
      "metadata": {
        "id": "JnpZpTt9BWSw"
      },
      "source": [
        "Restart Kernel"
      ]
    },
    {
      "cell_type": "code",
      "metadata": {
        "id": "AxcQEPf6BVXS"
      },
      "source": [
        "from skdecide import DeterministicPlanningDomain, Space, Value\n",
        "from skdecide.builders.domain import UnrestrictedActions, Renderable\n",
        "from skdecide.utils import rollout, match_solvers, load_registered_solver\n",
        "from skdecide.hub.space.gym import ListSpace, EnumSpace, MultiDiscreteSpace\n",
        "from skdecide.hub.solver.lazy_astar import LazyAstar\n",
        "\n",
        "from utils import Maze"
      ],
      "execution_count": 12,
      "outputs": []
    },
    {
      "cell_type": "markdown",
      "metadata": {
        "id": "v6HBavO1Bmm3"
      },
      "source": [
        "Create a Maze"
      ]
    },
    {
      "cell_type": "code",
      "metadata": {
        "colab": {
          "base_uri": "https://localhost:8080/"
        },
        "id": "_gDz0qF4Blpk",
        "outputId": "7704023b-6650-4fd7-a257-72b0e6abd1d3"
      },
      "source": [
        "maze = Maze(25, 25)\n",
        "print(maze.get_str())"
      ],
      "execution_count": 13,
      "outputs": [
        {
          "output_type": "stream",
          "name": "stdout",
          "text": [
            "+-+-+-+-+-+-+-+-+-+-+-+-+\n",
            "| |   |                 |\n",
            "+ + +-+ +-+-+-+-+ +-+-+ +\n",
            "| | |           | |   | |\n",
            "+ + + +-+-+-+-+-+ + + + +\n",
            "| |   |           | |   |\n",
            "+ + +-+ +-+-+-+-+-+ +-+-+\n",
            "| |   | |         | |   |\n",
            "+ +-+-+ + +-+ +-+-+ + + +\n",
            "| |     |   | |   | | | |\n",
            "+ + +-+-+-+ + + + + +-+ +\n",
            "|   |   |   | | | |   | |\n",
            "+-+-+ + +-+-+ + + +-+ + +\n",
            "|     |       | |     | |\n",
            "+ +-+ +-+-+ +-+ +-+-+-+ +\n",
            "| | |   | | |   |       |\n",
            "+ + +-+ + + + +-+ +-+-+-+\n",
            "|     | |   | |         |\n",
            "+-+-+ + +-+-+ +-+-+-+ + +\n",
            "|   | |       |     | | |\n",
            "+ +-+ +-+-+-+-+ +-+ +-+ +\n",
            "|   |         | | |     |\n",
            "+ + +-+-+-+-+ + + +-+-+ +\n",
            "| |             |       |\n",
            "+-+-+-+-+-+-+-+-+-+-+-+-+\n"
          ]
        }
      ]
    }
  ]
}