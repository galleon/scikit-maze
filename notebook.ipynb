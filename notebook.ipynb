{
 "cells": [
  {
   "cell_type": "code",
   "execution_count": 1,
   "metadata": {
    "id": "IKyurnIXMOd_"
   },
   "outputs": [],
   "source": [
    "%load_ext autoreload\n",
    "%autoreload 2"
   ]
  },
  {
   "cell_type": "code",
   "execution_count": 2,
   "metadata": {
    "colab": {
     "base_uri": "https://localhost:8080/"
    },
    "id": "zVce05OPBOeD",
    "outputId": "6857831b-f00f-48ff-a71a-b410b47c6cbf"
   },
   "outputs": [],
   "source": [
    "import sys\n",
    "if 'google.colab'in sys.modules:\n",
    "    !pip install scikit-decide[all]"
   ]
  },
  {
   "cell_type": "code",
   "execution_count": 3,
   "metadata": {
    "colab": {
     "base_uri": "https://localhost:8080/"
    },
    "id": "ux_OarNsKvtq",
    "outputId": "276fbeba-764e-4866-ded1-80fe048c6ef0"
   },
   "outputs": [
    {
     "name": "stdout",
     "output_type": "stream",
     "text": [
      "Cloning into 'scikit-maze'...\n",
      "remote: Enumerating objects: 84, done.\u001b[K\n",
      "remote: Counting objects: 100% (84/84), done.\u001b[K\n",
      "remote: Compressing objects: 100% (60/60), done.\u001b[K\n",
      "remote: Total 84 (delta 30), reused 70 (delta 16), pack-reused 0\u001b[K\n",
      "Unpacking objects: 100% (84/84), done.\n"
     ]
    }
   ],
   "source": [
    "!(rm -rf scikit-maze/; git clone https://github.com/galleon/scikit-maze.git)"
   ]
  },
  {
   "cell_type": "code",
   "execution_count": 4,
   "metadata": {
    "id": "ZQFxdDmxLO0I"
   },
   "outputs": [],
   "source": [
    "sys.path.insert(0,'./scikit-maze')"
   ]
  },
  {
   "cell_type": "code",
   "execution_count": 27,
   "metadata": {
    "id": "AxcQEPf6BVXS"
   },
   "outputs": [],
   "source": [
    "from enum import Enum\n",
    "from typing import Any, List, NamedTuple, Optional\n",
    "\n",
    "from skdecide import DeterministicPlanningDomain, Space, Value\n",
    "from skdecide.builders.domain import UnrestrictedActions, Renderable\n",
    "from skdecide.utils import rollout, match_solvers, load_registered_solver\n",
    "from skdecide.hub.space.gym import ListSpace, EnumSpace, MultiDiscreteSpace\n",
    "from skdecide.hub.solver.lazy_astar import LazyAstar\n",
    "\n",
    "from utils import Maze"
   ]
  },
  {
   "cell_type": "markdown",
   "metadata": {
    "id": "v6HBavO1Bmm3"
   },
   "source": [
    "Create a Maze"
   ]
  },
  {
   "cell_type": "code",
   "execution_count": 6,
   "metadata": {
    "colab": {
     "base_uri": "https://localhost:8080/"
    },
    "id": "_gDz0qF4Blpk",
    "outputId": "7704023b-6650-4fd7-a257-72b0e6abd1d3"
   },
   "outputs": [],
   "source": [
    "maze = Maze(25, 25)"
   ]
  },
  {
   "cell_type": "code",
   "execution_count": 7,
   "metadata": {},
   "outputs": [],
   "source": [
    "from PIL import Image\n",
    "\n",
    "im_array = maze.get_image().repeat(4, 0).repeat(4, 1)"
   ]
  },
  {
   "cell_type": "code",
   "execution_count": 10,
   "metadata": {},
   "outputs": [],
   "source": [
    "import io\n",
    "import ipywidgets as widgets"
   ]
  },
  {
   "cell_type": "code",
   "execution_count": 16,
   "metadata": {},
   "outputs": [],
   "source": [
    "buff = io.BytesIO()\n",
    "img = Image.fromarray(im_array)\n",
    "img.save(buff, format='png')"
   ]
  },
  {
   "cell_type": "code",
   "execution_count": 19,
   "metadata": {},
   "outputs": [
    {
     "data": {
      "application/vnd.jupyter.widget-view+json": {
       "model_id": "704449a1351b4ed2955aa7b9910e9b8b",
       "version_major": 2,
       "version_minor": 0
      },
      "text/plain": [
       "Image(value=b'\\x89PNG\\r\\n\\x1a\\n\\x00\\x00\\x00\\rIHDR\\x00\\x00\\x00d\\x00\\x00\\x00d\\x08\\x00\\x00\\x00\\x00U\\x89\\xca\\x88\\x…"
      ]
     },
     "metadata": {},
     "output_type": "display_data"
    }
   ],
   "source": [
    "# widgets.Image(value=buff.getvalue(), format='png', layout=widgets.Layout(width='200px'))\n",
    "widgets.Image(value=buff.getvalue(), layout=widgets.Layout(width='200px'))"
   ]
  },
  {
   "cell_type": "markdown",
   "metadata": {},
   "source": [
    "## Define Action & State spaces"
   ]
  },
  {
   "cell_type": "code",
   "execution_count": 15,
   "metadata": {},
   "outputs": [],
   "source": [
    "class State(NamedTuple):\n",
    "    x: int\n",
    "    y: int\n",
    "\n",
    "class Action(Enum):\n",
    "    up = 0\n",
    "    down = 1\n",
    "    left = 2\n",
    "    right = 3"
   ]
  },
  {
   "cell_type": "markdown",
   "metadata": {},
   "source": [
    "## Define a base domain"
   ]
  },
  {
   "cell_type": "code",
   "execution_count": 21,
   "metadata": {},
   "outputs": [],
   "source": [
    "class D(DeterministicPlanningDomain, UnrestrictedActions, Renderable):\n",
    "    T_state = State  # Type of states\n",
    "    T_observation = T_state  # Type of observations\n",
    "    T_event = Action  # Type of events\n",
    "    T_value = float  # Type of transition values (rewards or costs)\n",
    "    T_predicate = bool  # Type of logical checks\n",
    "    T_info = None  # Type of additional information in environment outcome"
   ]
  },
  {
   "cell_type": "markdown",
   "metadata": {},
   "source": [
    "## Create the maze domain"
   ]
  },
  {
   "cell_type": "code",
   "execution_count": 88,
   "metadata": {},
   "outputs": [],
   "source": [
    "from math import sqrt\n",
    "\n",
    "class MazeDomain(D):\n",
    "\n",
    "    def __init__(self, start, end, maze, image_widget=None):\n",
    "        self.start = start\n",
    "        self.end = end\n",
    "        self.maze = maze\n",
    "        self.image_widget = image_widget\n",
    "        #if self.image_widget:\n",
    "        #    self.image_widget.layout = widgets.Layout(width='200px')\n",
    "\n",
    "    def _get_next_state(self, memory: D.T_state, action: D.T_event) -> D.T_state:\n",
    "        # Move agent according to action (except if bumping into a wall)\n",
    "        next_x, next_y = memory.x, memory.y\n",
    "        if action == Action.up:\n",
    "            next_x -= 1\n",
    "        if action == Action.down:\n",
    "            next_x += 1\n",
    "        if action == Action.left:\n",
    "            next_y -= 1\n",
    "        if action == Action.right:\n",
    "            next_y += 1\n",
    "        return State(next_x, next_y) if self.maze.is_an_empty_cell(next_x, next_y) else memory\n",
    "\n",
    "    def _get_transition_value(self, memory: D.T_state, action: D.T_event, next_state: Optional[D.T_state] = None) -> \\\n",
    "            Value[D.T_value]:\n",
    "        # Set cost to 1 when moving (energy cost) and to 2 when bumping into a wall (damage cost)\n",
    "        return Value(cost=1 if next_state != memory else 2)\n",
    "\n",
    "    def _get_initial_state_(self) -> D.T_state:\n",
    "        # Set the start position as initial state\n",
    "        return self.start\n",
    "\n",
    "    def _get_goals_(self) -> Space[D.T_observation]:\n",
    "        # Set the end position as goal\n",
    "        return ListSpace([self.end])\n",
    "\n",
    "    def _is_terminal(self, state: D.T_state) -> D.T_agent[D.T_predicate]:\n",
    "        # Stop an episode only when goal reached\n",
    "        return self._is_goal(state)\n",
    "\n",
    "    def _get_action_space_(self) -> Space[D.T_event]:\n",
    "        # Define action space\n",
    "        return EnumSpace(Action)\n",
    "\n",
    "    def _get_observation_space_(self) -> Space[D.T_observation]:\n",
    "        # Define observation space\n",
    "        num_rows = self.maze.height\n",
    "        num_cols = self.maze.width\n",
    "        return MultiDiscreteSpace([num_rows, num_cols])\n",
    "\n",
    "    def _render_from(self, memory: D.T_state, **kwargs: Any) -> Any:\n",
    "        #  display maze in an image widget\n",
    "        #with io.BytesIO() as buff:\n",
    "        #    img = Image.fromarray(maze.get_image().repeat(4, 0).repeat(4, 1))\n",
    "        #    img.save(buff, format='png')\n",
    "        #    self.image_widget.value = buff.getvalue()\n",
    "        buff = io.BytesIO()\n",
    "        maze_ = maze.get_image(memory.x, memory.y).repeat(4, 0).repeat(4, 1)\n",
    "        img = Image.fromarray(maze_)\n",
    "        img.save(buff, format='png')\n",
    "        self.image_widget.value = buff.getvalue()\n",
    "        \n",
    "        \n",
    "    def heuristic(self, s: D.T_state) -> Value:\n",
    "        return Value(cost=sqrt((self.end.x - s.x)**2 + (self.end.y - s.y)**2))\n",
    "    \n",
    "    def state_features(self, s: D.T_state) -> List[float]:\n",
    "        return [s.x, s.y]"
   ]
  },
  {
   "cell_type": "markdown",
   "metadata": {},
   "source": [
    "## Define a Maze"
   ]
  },
  {
   "cell_type": "code",
   "execution_count": 89,
   "metadata": {},
   "outputs": [],
   "source": [
    "height, width = 25, 25\n",
    "\n",
    "domain_factory = lambda: MazeDomain(State(1, 1), State(height-2, width-2), maze=Maze(width, height))"
   ]
  },
  {
   "cell_type": "markdown",
   "metadata": {},
   "source": [
    "## Let solve with A*"
   ]
  },
  {
   "cell_type": "code",
   "execution_count": 90,
   "metadata": {},
   "outputs": [
    {
     "data": {
      "text/plain": [
       "<skdecide.hub.solver.lazy_astar.lazy_astar.LazyAstar at 0x7fd3d49e4ac0>"
      ]
     },
     "execution_count": 90,
     "metadata": {},
     "output_type": "execute_result"
    }
   ],
   "source": [
    "solver = LazyAstar()\n",
    "solver._initialize()\n",
    "MazeDomain.solve_with(solver, domain_factory)"
   ]
  },
  {
   "cell_type": "markdown",
   "metadata": {},
   "source": [
    "## Rollout"
   ]
  },
  {
   "cell_type": "code",
   "execution_count": 91,
   "metadata": {},
   "outputs": [
    {
     "data": {
      "application/vnd.jupyter.widget-view+json": {
       "model_id": "a591776c1ca64ba7809cfc07206d3955",
       "version_major": 2,
       "version_minor": 0
      },
      "text/plain": [
       "Image(value=b'')"
      ]
     },
     "metadata": {},
     "output_type": "display_data"
    }
   ],
   "source": [
    "max_steps = (height-2)*(width-2)\n",
    "\n",
    "output = widgets.Image(format='png')\n",
    "\n",
    "#output.value = buff.getvalue()\n",
    "\n",
    "output"
   ]
  },
  {
   "cell_type": "code",
   "execution_count": 92,
   "metadata": {},
   "outputs": [
    {
     "name": "stderr",
     "output_type": "stream",
     "text": [
      "2021-09-14 20:34:16,793 | skdecide.utils | INFO | The goal was not reached in episode 1.\n"
     ]
    }
   ],
   "source": [
    "domain = MazeDomain(State(1, 1), State(height-2, width-2), maze=Maze(width, height), image_widget=output)\n",
    "rollout(domain, solver, max_steps=max_steps, max_framerate=80, verbose=False)"
   ]
  }
 ],
 "metadata": {
  "colab": {
   "collapsed_sections": [],
   "name": "notebook.ipynb",
   "provenance": []
  },
  "kernelspec": {
   "display_name": "Python 3 (ipykernel)",
   "language": "python",
   "name": "python3"
  },
  "language_info": {
   "codemirror_mode": {
    "name": "ipython",
    "version": 3
   },
   "file_extension": ".py",
   "mimetype": "text/x-python",
   "name": "python",
   "nbconvert_exporter": "python",
   "pygments_lexer": "ipython3",
   "version": "3.8.10"
  }
 },
 "nbformat": 4,
 "nbformat_minor": 4
}
