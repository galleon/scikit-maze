{
 "cells": [
  {
   "cell_type": "markdown",
   "metadata": {
    "id": "_HCT49T5dBzu"
   },
   "source": [
    "# Installing scikit-decide"
   ]
  },
  {
   "cell_type": "code",
   "execution_count": 1,
   "metadata": {
    "id": "IKyurnIXMOd_"
   },
   "outputs": [],
   "source": [
    "%load_ext autoreload\n",
    "%autoreload 2"
   ]
  },
  {
   "cell_type": "code",
   "execution_count": 2,
   "metadata": {
    "id": "Gxl2trTDNGiX"
   },
   "outputs": [],
   "source": [
    "# deps installation\n",
    "try:\n",
    "  from skdecide import DeterministicPlanningDomain\n",
    "except ImportError:\n",
    "  !pip install scikit-decide[all]\n",
    "  print('Stopping RUNTIME! Please run again.')\n",
    "  import os\n",
    "  os.kill(os.getpid(), 9)"
   ]
  },
  {
   "cell_type": "code",
   "execution_count": 5,
   "metadata": {
    "colab": {
     "base_uri": "https://localhost:8080/"
    },
    "id": "ux_OarNsKvtq",
    "outputId": "98575cfa-d13a-4a9e-c92a-7f8eee4ad194"
   },
   "outputs": [
    {
     "name": "stdout",
     "output_type": "stream",
     "text": [
      "Cloning into 'scikit-maze'...\n",
      "remote: Enumerating objects: 28, done.\u001b[K\n",
      "remote: Counting objects: 100% (28/28), done.\u001b[K\n",
      "remote: Compressing objects: 100% (20/20), done.\u001b[K\n",
      "remote: Total 28 (delta 6), reused 26 (delta 4), pack-reused 0\u001b[K\n",
      "Receiving objects: 100% (28/28), 11.62 KiB | 2.32 MiB/s, done.\n",
      "Resolving deltas: 100% (6/6), done.\n"
     ]
    }
   ],
   "source": [
    "!git clone https://github.com/galleon/scikit-maze.git"
   ]
  },
  {
   "cell_type": "code",
   "execution_count": 4,
   "metadata": {
    "id": "ZQFxdDmxLO0I"
   },
   "outputs": [],
   "source": [
    "import sys\n",
    "sys.path.insert(0,'./scikit-maze')"
   ]
  },
  {
   "cell_type": "markdown",
   "metadata": {
    "id": "D0-cfd0vdY3_"
   },
   "source": [
    "# Solving a Maze"
   ]
  },
  {
   "cell_type": "code",
   "execution_count": 3,
   "metadata": {
    "id": "AxcQEPf6BVXS"
   },
   "outputs": [],
   "source": [
    "from copy import deepcopy\n",
    "from enum import Enum\n",
    "from io import BytesIO\n",
    "import matplotlib.pyplot as plt\n",
    "from typing import NamedTuple, Optional, Any, List\n",
    "\n",
    "from skdecide import DeterministicPlanningDomain, Space, Value\n",
    "from skdecide.builders.domain import UnrestrictedActions, Renderable\n",
    "from skdecide.utils import rollout, match_solvers, load_registered_solver\n",
    "from skdecide.hub.space.gym import ListSpace, EnumSpace, MultiDiscreteSpace\n",
    "from skdecide.hub.solver.lazy_astar import LazyAstar\n",
    "\n",
    "from utils import Maze"
   ]
  },
  {
   "cell_type": "markdown",
   "metadata": {
    "id": "v6HBavO1Bmm3"
   },
   "source": [
    "## Create a Maze"
   ]
  },
  {
   "cell_type": "code",
   "execution_count": 4,
   "metadata": {
    "id": "_gDz0qF4Blpk"
   },
   "outputs": [],
   "source": [
    "maze = Maze(25, 25)"
   ]
  },
  {
   "cell_type": "code",
   "execution_count": 6,
   "metadata": {},
   "outputs": [
    {
     "ename": "NameError",
     "evalue": "name 'maze' is not defined",
     "output_type": "error",
     "traceback": [
      "\u001b[0;31m---------------------------------------------------------------------------\u001b[0m",
      "\u001b[0;31mNameError\u001b[0m                                 Traceback (most recent call last)",
      "\u001b[0;32m/var/folders/ds/qwbvxlpn2hd_69wn9ypzl_c80000gn/T/ipykernel_95006/2212167009.py\u001b[0m in \u001b[0;36m<module>\u001b[0;34m\u001b[0m\n\u001b[0;32m----> 1\u001b[0;31m \u001b[0mimage\u001b[0m \u001b[0;34m=\u001b[0m \u001b[0mmaze\u001b[0m\u001b[0;34m.\u001b[0m\u001b[0mget_image\u001b[0m\u001b[0;34m(\u001b[0m\u001b[0;36m1\u001b[0m\u001b[0;34m,\u001b[0m \u001b[0;36m1\u001b[0m\u001b[0;34m)\u001b[0m\u001b[0;34m\u001b[0m\u001b[0;34m\u001b[0m\u001b[0m\n\u001b[0m",
      "\u001b[0;32m~/code/scikit-maze/utils.py\u001b[0m in \u001b[0;36mget_image\u001b[0;34m(self, x, y)\u001b[0m\n\u001b[1;32m     79\u001b[0m         \u001b[0mfig\u001b[0m\u001b[0;34m.\u001b[0m\u001b[0mset_figwidth\u001b[0m\u001b[0;34m(\u001b[0m\u001b[0;36m600\u001b[0m\u001b[0;34m)\u001b[0m\u001b[0;34m\u001b[0m\u001b[0;34m\u001b[0m\u001b[0m\n\u001b[1;32m     80\u001b[0m         \u001b[0mfig\u001b[0m\u001b[0;34m.\u001b[0m\u001b[0mset_figheight\u001b[0m\u001b[0;34m(\u001b[0m\u001b[0;36m600\u001b[0m\u001b[0;34m)\u001b[0m\u001b[0;34m\u001b[0m\u001b[0;34m\u001b[0m\u001b[0m\n\u001b[0;32m---> 81\u001b[0;31m         \u001b[0;32mreturn\u001b[0m \u001b[0max\u001b[0m\u001b[0;34m.\u001b[0m\u001b[0mimshow\u001b[0m\u001b[0;34m(\u001b[0m\u001b[0mmaze\u001b[0m\u001b[0;34m)\u001b[0m\u001b[0;34m\u001b[0m\u001b[0;34m\u001b[0m\u001b[0m\n\u001b[0m",
      "\u001b[0;31mNameError\u001b[0m: name 'maze' is not defined"
     ]
    }
   ],
   "source": [
    "image = maze.get_image(1, 1)"
   ]
  },
  {
   "cell_type": "code",
   "execution_count": null,
   "metadata": {},
   "outputs": [],
   "source": []
  },
  {
   "cell_type": "markdown",
   "metadata": {
    "id": "5b36dpRicIqE"
   },
   "source": [
    "## Domain definition\n",
    "Define your state space (agent positions) & action space (agent movements)."
   ]
  },
  {
   "cell_type": "code",
   "execution_count": 5,
   "metadata": {
    "id": "iKfLV_0FcHPc"
   },
   "outputs": [],
   "source": [
    "class State(NamedTuple):\n",
    "    x: int\n",
    "    y: int\n",
    "\n",
    "\n",
    "class Action(Enum):\n",
    "    up = 0\n",
    "    down = 1\n",
    "    left = 2\n",
    "    right = 3"
   ]
  },
  {
   "cell_type": "markdown",
   "metadata": {
    "id": "0mLinYPWdk1k"
   },
   "source": [
    "Define your domain type from a base template (DeterministicPlanningDomain here) with optional refinements (UnrestrictedActions & Renderable here).\n",
    "\n"
   ]
  },
  {
   "cell_type": "code",
   "execution_count": 8,
   "metadata": {
    "id": "fOmigEHCdtIG"
   },
   "outputs": [],
   "source": [
    "class D(DeterministicPlanningDomain, UnrestrictedActions, Renderable):\n",
    "    T_state = State  # Type of states\n",
    "    T_observation = T_state  # Type of observations\n",
    "    T_event = Action  # Type of events\n",
    "    T_value = float  # Type of transition values (rewards or costs)\n",
    "    T_predicate = bool  # Type of logical checks\n",
    "    T_info = None  # Type of additional information in environment outcome"
   ]
  },
  {
   "cell_type": "markdown",
   "metadata": {
    "id": "ueHL80Jgd0LC"
   },
   "source": [
    "Implement the maze domain by:\n",
    "* filling all non-implemented methods\n",
    "* adding a constructor to define the maze & start/end positions.\n",
    "\n",
    "And also define (to help solvers that need it)\n",
    "* an heuristic for search algorithms\n",
    "* state features for width-based algorithms"
   ]
  },
  {
   "cell_type": "code",
   "execution_count": 9,
   "metadata": {
    "id": "rgWspQF7d005"
   },
   "outputs": [],
   "source": [
    "empty_cell = \" \"\n",
    "\n",
    "class MazeDomain(D):\n",
    "    def __init__(self, start, end, maze_str, image_widget=None):\n",
    "        self.start = start\n",
    "        self.end = end\n",
    "        self.maze_str = maze_str.strip()\n",
    "        self.maze = self.maze_str.splitlines()\n",
    "        self.image_widget = image_widget\n",
    "\n",
    "        # for rendering\n",
    "        rendered_maze = []\n",
    "        for line in self.maze:\n",
    "            row = []\n",
    "            for c in line:\n",
    "                if c == empty_cell:\n",
    "                    row.append(1)\n",
    "                else:\n",
    "                    row.append(0)\n",
    "            if len(row) > 0:\n",
    "                rendered_maze.append(row)\n",
    "        rendered_maze[self.end.x][self.end.y] = 0.7\n",
    "        self.rendered_maze = rendered_maze\n",
    "\n",
    "        self._image = None\n",
    "\n",
    "    def _get_next_state(self, memory: D.T_state, action: D.T_event) -> D.T_state:\n",
    "        # Move agent according to action (except if bumping into a wall)\n",
    "        next_x, next_y = memory.x, memory.y\n",
    "        if action == Action.up:\n",
    "            next_x -= 1\n",
    "        if action == Action.down:\n",
    "            next_x += 1\n",
    "        if action == Action.left:\n",
    "            next_y -= 1\n",
    "        if action == Action.right:\n",
    "            next_y += 1\n",
    "        return State(next_x, next_y) if self.maze[next_x][next_y] == empty_cell else memory\n",
    "\n",
    "    def _get_transition_value(self, memory: D.T_state, action: D.T_event, next_state: Optional[D.T_state] = None) -> \\\n",
    "            Value[D.T_value]:\n",
    "        # Set cost to 1 when moving (energy cost) and to 2 when bumping into a wall (damage cost)\n",
    "        return Value(cost=1 if next_state != memory else 2)\n",
    "\n",
    "    def _get_initial_state_(self) -> D.T_state:\n",
    "        # Set the start position as initial state\n",
    "        return self.start\n",
    "\n",
    "    def _get_goals_(self) -> Space[D.T_observation]:\n",
    "        # Set the end position as goal\n",
    "        return ListSpace([self.end])\n",
    "\n",
    "    def _is_terminal(self, state: D.T_state) -> D.T_agent[D.T_predicate]:\n",
    "        # Stop an episode only when goal reached\n",
    "        return self._is_goal(state)\n",
    "\n",
    "    def _get_action_space_(self) -> Space[D.T_event]:\n",
    "        # Define action space\n",
    "        return EnumSpace(Action)\n",
    "\n",
    "    def _get_observation_space_(self) -> Space[D.T_observation]:\n",
    "        # Define observation space\n",
    "        num_rows = len(self.maze)\n",
    "        num_cols = max([len(row) for row in self.maze])\n",
    "        return MultiDiscreteSpace([num_rows, num_cols])\n",
    "\n",
    "    def _render_from(self, memory: D.T_state, **kwargs: Any) -> Any:\n",
    "        #  display maze in an image widget, via a matplotlib figure\n",
    "        maze = deepcopy(self.rendered_maze)\n",
    "        maze[memory.x][memory.y] = 0.3\n",
    "        if self._image is None:\n",
    "            plt.ioff()\n",
    "            fig, ax = plt.subplots(1)\n",
    "            ax.set_aspect('equal')  # set the x and y axes to the same scale\n",
    "            plt.xticks([])  # remove the tick marks by setting to an empty list\n",
    "            plt.yticks([])  # remove the tick marks by setting to an empty list\n",
    "            ax.invert_yaxis()  # invert the y-axis so the first row of data is at the top\n",
    "            plt.ion()\n",
    "            fig.canvas.header_visible = False\n",
    "            fig.canvas.footer_visible = False\n",
    "            fig.canvas.resizable = False\n",
    "            fig.set_dpi(1)\n",
    "            fig.set_figwidth(600)\n",
    "            fig.set_figheight(600)\n",
    "            self._image = ax.imshow(maze)\n",
    "        else:\n",
    "            self._image.set_data(maze)\n",
    "        with BytesIO() as f:\n",
    "            self._image.figure.savefig(f, format=\"png\")\n",
    "            self.image_widget.value = f.getvalue()\n",
    "        \n",
    "    def heuristic(self, s: D.T_state) -> Value:\n",
    "        return Value(cost=sqrt((self.end.x - s.x)**2 + (self.end.y - s.y)**2))\n",
    "    \n",
    "    def state_features(self, s: D.T_state) -> List[float]:\n",
    "        return [s.x, s.y]"
   ]
  },
  {
   "cell_type": "markdown",
   "metadata": {
    "id": "lLv2B4p4eizS"
   },
   "source": [
    "Now that the domain is defined. Let's look at the solvers that can solve it. *scikit-decide* provide a method to list them"
   ]
  },
  {
   "cell_type": "code",
   "execution_count": 11,
   "metadata": {
    "colab": {
     "base_uri": "https://localhost:8080/"
    },
    "id": "895pv1Q5evRA",
    "outputId": "46dd2be7-74f2-4099-b248-fc58f1748d37"
   },
   "outputs": [
    {
     "name": "stdout",
     "output_type": "stream",
     "text": [
      "[Discrete(4)]\n",
      "[MultiDiscrete([25 25])]\n"
     ]
    }
   ],
   "source": [
    "default_domain = MazeDomain(start=State(1,1), end=State(x=23, y=23), maze_str=maze.get_str())\n",
    "compatible_solver_classes = match_solvers(default_domain)"
   ]
  },
  {
   "cell_type": "code",
   "execution_count": 12,
   "metadata": {
    "colab": {
     "base_uri": "https://localhost:8080/"
    },
    "id": "YJTFcHQOq7Ij",
    "outputId": "c0f8e1a2-ac0e-464a-a43d-5c55e6d5dcbd"
   },
   "outputs": [
    {
     "data": {
      "text/plain": [
       "[skdecide.hub.solver.aostar.aostar.AOstar,\n",
       " skdecide.hub.solver.astar.astar.Astar,\n",
       " skdecide.hub.solver.ars.ars.AugmentedRandomSearch,\n",
       " skdecide.hub.solver.bfws.bfws.BFWS,\n",
       " skdecide.hub.solver.ilaostar.ilaostar.ILAOstar,\n",
       " skdecide.hub.solver.iw.iw.IW,\n",
       " skdecide.hub.solver.lrtastar.lrtastar.LRTAstar,\n",
       " skdecide.hub.solver.lrtdp.lrtdp.LRTDP,\n",
       " skdecide.hub.solver.lazy_astar.lazy_astar.LazyAstar,\n",
       " skdecide.hub.solver.mahd.mahd.MAHD,\n",
       " skdecide.hub.solver.martdp.martdp.MARTDP,\n",
       " skdecide.hub.solver.mcts.mcts.MCTS,\n",
       " skdecide.hub.solver.maxent_irl.maxent_irl.MaxentIRL,\n",
       " skdecide.hub.solver.pomcp.pomcp.POMCP,\n",
       " skdecide.hub.solver.riw.riw.RIW,\n",
       " skdecide.hub.solver.ray_rllib.ray_rllib.RayRLlib,\n",
       " skdecide.hub.solver.simple_greedy.simple_greedy.SimpleGreedy,\n",
       " skdecide.hub.solver.stable_baselines.stable_baselines.StableBaseline,\n",
       " skdecide.hub.solver.mcts.mcts.UCT]"
      ]
     },
     "execution_count": 12,
     "metadata": {},
     "output_type": "execute_result"
    }
   ],
   "source": [
    "compatible_solver_classes"
   ]
  },
  {
   "cell_type": "markdown",
   "metadata": {
    "id": "ALYBAP6vewZJ"
   },
   "source": [
    "Let's try to use a first solver named A\\*. A\\* (pronounced \"A-star\") is a graph traversal and path search algorithm, which is often used in many fields of computer science due to its completeness, optimality, and optimal efficiency. \n",
    "\n",
    "One major practical drawback is its $O(b^d)$ space complexity, as it\n",
    "stores all generated nodes in memory."
   ]
  },
  {
   "cell_type": "code",
   "execution_count": 13,
   "metadata": {
    "id": "wE60LC0gfYEK"
   },
   "outputs": [],
   "source": [
    "from skdecide.hub.solver.astar.astar import Astar"
   ]
  },
  {
   "cell_type": "markdown",
   "metadata": {
    "id": "MQWgcvbwslFt"
   },
   "source": [
    "❗ We need to explain what is a domain factory and an heuristic [we cannot assume it is know from users]"
   ]
  },
  {
   "cell_type": "code",
   "execution_count": 14,
   "metadata": {
    "id": "4aM3sfL1vSlr"
   },
   "outputs": [],
   "source": [
    "domain_factory = lambda: MazeDomain(start=State(1,1), end=State(x=23, y=23), maze_str=maze.get_str())"
   ]
  },
  {
   "cell_type": "code",
   "execution_count": 15,
   "metadata": {
    "id": "AK2orIt7rGll"
   },
   "outputs": [],
   "source": [
    "solver = Astar()"
   ]
  },
  {
   "cell_type": "code",
   "execution_count": 16,
   "metadata": {
    "colab": {
     "base_uri": "https://localhost:8080/"
    },
    "id": "ziQjkkJluObf",
    "outputId": "3c0f3d0a-244f-4446-e494-e8ec79f8a8c4"
   },
   "outputs": [
    {
     "data": {
      "text/plain": [
       "<skdecide.hub.solver.astar.astar.Astar at 0x7f6d562c4910>"
      ]
     },
     "execution_count": 16,
     "metadata": {},
     "output_type": "execute_result"
    }
   ],
   "source": [
    "#solver._initialize()\n",
    "MazeDomain.solve_with(solver, domain_factory)"
   ]
  },
  {
   "cell_type": "code",
   "execution_count": 17,
   "metadata": {
    "colab": {
     "base_uri": "https://localhost:8080/",
     "height": 317
    },
    "id": "BZAXgw6VvomL",
    "outputId": "d395faa1-445e-4639-b30a-8680695cc987"
   },
   "outputs": [
    {
     "ename": "AttributeError",
     "evalue": "ignored",
     "output_type": "error",
     "traceback": [
      "\u001b[0;31m---------------------------------------------------------------------------\u001b[0m",
      "\u001b[0;31mAttributeError\u001b[0m                            Traceback (most recent call last)",
      "\u001b[0;32m<ipython-input-17-347e7ece20fd>\u001b[0m in \u001b[0;36m<module>\u001b[0;34m()\u001b[0m\n\u001b[0;32m----> 1\u001b[0;31m \u001b[0mrollout\u001b[0m\u001b[0;34m(\u001b[0m\u001b[0mdefault_domain\u001b[0m\u001b[0;34m,\u001b[0m \u001b[0msolver\u001b[0m\u001b[0;34m,\u001b[0m \u001b[0mmax_steps\u001b[0m\u001b[0;34m=\u001b[0m\u001b[0;36m1000\u001b[0m\u001b[0;34m,\u001b[0m \u001b[0mmax_framerate\u001b[0m\u001b[0;34m=\u001b[0m\u001b[0;36m80\u001b[0m\u001b[0;34m,\u001b[0m \u001b[0mverbose\u001b[0m\u001b[0;34m=\u001b[0m\u001b[0;32mFalse\u001b[0m\u001b[0;34m)\u001b[0m\u001b[0;34m\u001b[0m\u001b[0;34m\u001b[0m\u001b[0m\n\u001b[0m",
      "\u001b[0;32m/usr/local/lib/python3.7/dist-packages/skdecide/utils.py\u001b[0m in \u001b[0;36mrollout\u001b[0;34m(domain, solver, from_memory, from_action, num_episodes, max_steps, render, max_framerate, verbose, action_formatter, outcome_formatter, save_result_directory)\u001b[0m\n\u001b[1;32m    175\u001b[0m             \u001b[0mold_time\u001b[0m \u001b[0;34m=\u001b[0m \u001b[0mtime\u001b[0m\u001b[0;34m.\u001b[0m\u001b[0mperf_counter\u001b[0m\u001b[0;34m(\u001b[0m\u001b[0;34m)\u001b[0m\u001b[0;34m\u001b[0m\u001b[0;34m\u001b[0m\u001b[0m\n\u001b[1;32m    176\u001b[0m             \u001b[0;32mif\u001b[0m \u001b[0mrender\u001b[0m \u001b[0;32mand\u001b[0m \u001b[0mhas_render\u001b[0m\u001b[0;34m:\u001b[0m\u001b[0;34m\u001b[0m\u001b[0;34m\u001b[0m\u001b[0m\n\u001b[0;32m--> 177\u001b[0;31m                 \u001b[0mdomain\u001b[0m\u001b[0;34m.\u001b[0m\u001b[0mrender\u001b[0m\u001b[0;34m(\u001b[0m\u001b[0;34m)\u001b[0m\u001b[0;34m\u001b[0m\u001b[0;34m\u001b[0m\u001b[0m\n\u001b[0m\u001b[1;32m    178\u001b[0m             \u001b[0;31m# assert solver.is_policy_defined_for(observation)\u001b[0m\u001b[0;34m\u001b[0m\u001b[0;34m\u001b[0m\u001b[0;34m\u001b[0m\u001b[0m\n\u001b[1;32m    179\u001b[0m             \u001b[0;32mif\u001b[0m \u001b[0msave_result_directory\u001b[0m \u001b[0;32mis\u001b[0m \u001b[0;32mnot\u001b[0m \u001b[0;32mNone\u001b[0m\u001b[0;34m:\u001b[0m\u001b[0;34m\u001b[0m\u001b[0;34m\u001b[0m\u001b[0m\n",
      "\u001b[0;32m/usr/local/lib/python3.7/dist-packages/skdecide/builders/domain/renderability.py\u001b[0m in \u001b[0;36mrender\u001b[0;34m(self, memory, **kwargs)\u001b[0m\n\u001b[1;32m     29\u001b[0m         \u001b[0mA\u001b[0m \u001b[0mrender\u001b[0m \u001b[0;34m(\u001b[0m\u001b[0me\u001b[0m\u001b[0;34m.\u001b[0m\u001b[0mg\u001b[0m\u001b[0;34m.\u001b[0m \u001b[0mimage\u001b[0m\u001b[0;34m)\u001b[0m \u001b[0;32mor\u001b[0m \u001b[0mnothing\u001b[0m \u001b[0;34m(\u001b[0m\u001b[0;32mif\u001b[0m \u001b[0mthe\u001b[0m \u001b[0mfunction\u001b[0m \u001b[0mhandles\u001b[0m \u001b[0mthe\u001b[0m \u001b[0mdisplay\u001b[0m \u001b[0mdirectly\u001b[0m\u001b[0;34m)\u001b[0m\u001b[0;34m.\u001b[0m\u001b[0;34m\u001b[0m\u001b[0;34m\u001b[0m\u001b[0m\n\u001b[1;32m     30\u001b[0m         \"\"\"\n\u001b[0;32m---> 31\u001b[0;31m         \u001b[0;32mreturn\u001b[0m \u001b[0mself\u001b[0m\u001b[0;34m.\u001b[0m\u001b[0m_render\u001b[0m\u001b[0;34m(\u001b[0m\u001b[0mmemory\u001b[0m\u001b[0;34m,\u001b[0m \u001b[0;34m**\u001b[0m\u001b[0mkwargs\u001b[0m\u001b[0;34m)\u001b[0m\u001b[0;34m\u001b[0m\u001b[0;34m\u001b[0m\u001b[0m\n\u001b[0m\u001b[1;32m     32\u001b[0m \u001b[0;34m\u001b[0m\u001b[0m\n\u001b[1;32m     33\u001b[0m     \u001b[0;32mdef\u001b[0m \u001b[0m_render\u001b[0m\u001b[0;34m(\u001b[0m\u001b[0mself\u001b[0m\u001b[0;34m,\u001b[0m \u001b[0mmemory\u001b[0m\u001b[0;34m:\u001b[0m \u001b[0mOptional\u001b[0m\u001b[0;34m[\u001b[0m\u001b[0mD\u001b[0m\u001b[0;34m.\u001b[0m\u001b[0mT_memory\u001b[0m\u001b[0;34m[\u001b[0m\u001b[0mD\u001b[0m\u001b[0;34m.\u001b[0m\u001b[0mT_state\u001b[0m\u001b[0;34m]\u001b[0m\u001b[0;34m]\u001b[0m \u001b[0;34m=\u001b[0m \u001b[0;32mNone\u001b[0m\u001b[0;34m,\u001b[0m \u001b[0;34m**\u001b[0m\u001b[0mkwargs\u001b[0m\u001b[0;34m:\u001b[0m \u001b[0mAny\u001b[0m\u001b[0;34m)\u001b[0m \u001b[0;34m->\u001b[0m \u001b[0mAny\u001b[0m\u001b[0;34m:\u001b[0m\u001b[0;34m\u001b[0m\u001b[0;34m\u001b[0m\u001b[0m\n",
      "\u001b[0;32m/usr/local/lib/python3.7/dist-packages/skdecide/builders/domain/renderability.py\u001b[0m in \u001b[0;36m_render\u001b[0;34m(self, memory, **kwargs)\u001b[0m\n\u001b[1;32m     46\u001b[0m         \u001b[0;32mif\u001b[0m \u001b[0mmemory\u001b[0m \u001b[0;32mis\u001b[0m \u001b[0;32mNone\u001b[0m\u001b[0;34m:\u001b[0m\u001b[0;34m\u001b[0m\u001b[0;34m\u001b[0m\u001b[0m\n\u001b[1;32m     47\u001b[0m             \u001b[0mmemory\u001b[0m \u001b[0;34m=\u001b[0m \u001b[0mself\u001b[0m\u001b[0;34m.\u001b[0m\u001b[0m_memory\u001b[0m\u001b[0;34m\u001b[0m\u001b[0;34m\u001b[0m\u001b[0m\n\u001b[0;32m---> 48\u001b[0;31m         \u001b[0;32mreturn\u001b[0m \u001b[0mself\u001b[0m\u001b[0;34m.\u001b[0m\u001b[0m_render_from\u001b[0m\u001b[0;34m(\u001b[0m\u001b[0mmemory\u001b[0m\u001b[0;34m,\u001b[0m \u001b[0;34m**\u001b[0m\u001b[0mkwargs\u001b[0m\u001b[0;34m)\u001b[0m\u001b[0;34m\u001b[0m\u001b[0;34m\u001b[0m\u001b[0m\n\u001b[0m\u001b[1;32m     49\u001b[0m \u001b[0;34m\u001b[0m\u001b[0m\n\u001b[1;32m     50\u001b[0m     \u001b[0;32mdef\u001b[0m \u001b[0m_render_from\u001b[0m\u001b[0;34m(\u001b[0m\u001b[0mself\u001b[0m\u001b[0;34m,\u001b[0m \u001b[0mmemory\u001b[0m\u001b[0;34m:\u001b[0m \u001b[0mD\u001b[0m\u001b[0;34m.\u001b[0m\u001b[0mT_memory\u001b[0m\u001b[0;34m[\u001b[0m\u001b[0mD\u001b[0m\u001b[0;34m.\u001b[0m\u001b[0mT_state\u001b[0m\u001b[0;34m]\u001b[0m\u001b[0;34m,\u001b[0m \u001b[0;34m**\u001b[0m\u001b[0mkwargs\u001b[0m\u001b[0;34m:\u001b[0m \u001b[0mAny\u001b[0m\u001b[0;34m)\u001b[0m \u001b[0;34m->\u001b[0m \u001b[0mAny\u001b[0m\u001b[0;34m:\u001b[0m\u001b[0;34m\u001b[0m\u001b[0;34m\u001b[0m\u001b[0m\n",
      "\u001b[0;32m<ipython-input-9-a506b36f62a8>\u001b[0m in \u001b[0;36m_render_from\u001b[0;34m(self, memory, **kwargs)\u001b[0m\n\u001b[1;32m     87\u001b[0m         \u001b[0;32mwith\u001b[0m \u001b[0mBytesIO\u001b[0m\u001b[0;34m(\u001b[0m\u001b[0;34m)\u001b[0m \u001b[0;32mas\u001b[0m \u001b[0mf\u001b[0m\u001b[0;34m:\u001b[0m\u001b[0;34m\u001b[0m\u001b[0;34m\u001b[0m\u001b[0m\n\u001b[1;32m     88\u001b[0m             \u001b[0mself\u001b[0m\u001b[0;34m.\u001b[0m\u001b[0m_image\u001b[0m\u001b[0;34m.\u001b[0m\u001b[0mfigure\u001b[0m\u001b[0;34m.\u001b[0m\u001b[0msavefig\u001b[0m\u001b[0;34m(\u001b[0m\u001b[0mf\u001b[0m\u001b[0;34m,\u001b[0m \u001b[0mformat\u001b[0m\u001b[0;34m=\u001b[0m\u001b[0;34m\"png\"\u001b[0m\u001b[0;34m)\u001b[0m\u001b[0;34m\u001b[0m\u001b[0;34m\u001b[0m\u001b[0m\n\u001b[0;32m---> 89\u001b[0;31m             \u001b[0mself\u001b[0m\u001b[0;34m.\u001b[0m\u001b[0mimage_widget\u001b[0m\u001b[0;34m.\u001b[0m\u001b[0mvalue\u001b[0m \u001b[0;34m=\u001b[0m \u001b[0mf\u001b[0m\u001b[0;34m.\u001b[0m\u001b[0mgetvalue\u001b[0m\u001b[0;34m(\u001b[0m\u001b[0;34m)\u001b[0m\u001b[0;34m\u001b[0m\u001b[0;34m\u001b[0m\u001b[0m\n\u001b[0m\u001b[1;32m     90\u001b[0m \u001b[0;34m\u001b[0m\u001b[0m\n\u001b[1;32m     91\u001b[0m     \u001b[0;32mdef\u001b[0m \u001b[0mheuristic\u001b[0m\u001b[0;34m(\u001b[0m\u001b[0mself\u001b[0m\u001b[0;34m,\u001b[0m \u001b[0ms\u001b[0m\u001b[0;34m:\u001b[0m \u001b[0mD\u001b[0m\u001b[0;34m.\u001b[0m\u001b[0mT_state\u001b[0m\u001b[0;34m)\u001b[0m \u001b[0;34m->\u001b[0m \u001b[0mValue\u001b[0m\u001b[0;34m:\u001b[0m\u001b[0;34m\u001b[0m\u001b[0;34m\u001b[0m\u001b[0m\n",
      "\u001b[0;31mAttributeError\u001b[0m: 'NoneType' object has no attribute 'value'"
     ]
    }
   ],
   "source": [
    "rollout(default_domain, solver, max_steps=1000, max_framerate=80, verbose=False)"
   ]
  },
  {
   "cell_type": "code",
   "execution_count": null,
   "metadata": {
    "id": "7_dfYyv0wdWT"
   },
   "outputs": [],
   "source": []
  }
 ],
 "metadata": {
  "colab": {
   "collapsed_sections": [],
   "name": "notebook.ipynb",
   "provenance": []
  },
  "kernelspec": {
   "display_name": "Python 3 (ipykernel)",
   "language": "python",
   "name": "python3"
  },
  "language_info": {
   "codemirror_mode": {
    "name": "ipython",
    "version": 3
   },
   "file_extension": ".py",
   "mimetype": "text/x-python",
   "name": "python",
   "nbconvert_exporter": "python",
   "pygments_lexer": "ipython3",
   "version": "3.8.10"
  },
  "toc": {
   "base_numbering": 1,
   "nav_menu": {},
   "number_sections": true,
   "sideBar": true,
   "skip_h1_title": false,
   "title_cell": "Table of Contents",
   "title_sidebar": "Contents",
   "toc_cell": false,
   "toc_position": {},
   "toc_section_display": true,
   "toc_window_display": false
  }
 },
 "nbformat": 4,
 "nbformat_minor": 1
}
